{
 "cells": [
  {
   "cell_type": "markdown",
   "metadata": {},
   "source": [
    "## AdaBoost\n"
   ]
  },
  {
   "cell_type": "markdown",
   "metadata": {},
   "source": [
    "\n",
    "### 习题8.1\n",
    "&emsp;&emsp;某公司招聘职员考查身体、业务能力、发展潜力这3项。身体分为合格1、不合格0两级，业务能力和发展潜力分为上1、中2、下3三级分类为合格1 、不合格-1两类。已知10个人的数据，如下表所示。假设弱分类器为决策树桩。试用AdaBoost算法学习一个强分类器。  \n",
    "\n",
    "应聘人员情况数据表\n",
    "\n",
    "&emsp;&emsp;|1|2|3|4|5|6|7|8|9|10\n",
    "-|-|-|-|-|-|-|-|-|-|-\n",
    "身体|0|0|1|1|1|0|1|1|1|0\n",
    "业务|1|3|2|1|2|1|1|1|3|2\n",
    "潜力|3|1|2|3|3|2|2|1|1|1\n",
    "分类|-1|-1|-1|-1|-1|-1|1|1|-1|-1\n",
    "\n"
   ]
  },
  {
   "cell_type": "code",
   "execution_count": 66,
   "metadata": {},
   "outputs": [],
   "source": [
    "import numpy as np\n",
    "\n",
    "# 加载训练数据\n",
    "X = np.array([[0, 1, 3], [0, 3, 1], [1, 2, 2], [1, 1, 3], [1, 2, 3], [0, 1, 2],\n",
    "              [1, 1, 2], [1, 1, 1], [1, 3, 1], [0, 2, 1]])\n",
    "y = np.array([-1, -1, -1, -1, -1, -1, 1, 1, -1, -1])"
   ]
  },
  {
   "cell_type": "markdown",
   "metadata": {},
   "source": [
    "**AdaBoostClassifier分类器实现：**\n",
    "\n",
    "采用sklearn的AdaBoostClassifier分类器直接求解，由于AdaBoostClassifier分类器默认采用CART决策树弱分类器，故不需要设置base_estimator参数。"
   ]
  },
  {
   "cell_type": "code",
   "execution_count": 67,
   "metadata": {},
   "outputs": [
    {
     "name": "stdout",
     "output_type": "stream",
     "text": [
      "原始输出: [-1 -1 -1 -1 -1 -1  1  1 -1 -1]\n",
      "预测输出: [-1 -1 -1 -1 -1 -1  1  1 -1 -1]\n",
      "预测正确率：100.00%\n"
     ]
    }
   ],
   "source": [
    "from sklearn.ensemble import AdaBoostClassifier\n",
    "\n",
    "clf = AdaBoostClassifier()\n",
    "clf.fit(X, y)\n",
    "y_predict = clf.predict(X)\n",
    "score = clf.score(X, y)\n",
    "print(\"原始输出:\", y)\n",
    "print(\"预测输出:\", y_predict)\n",
    "print(\"预测正确率：{:.2%}\".format(score))"
   ]
  },
  {
   "cell_type": "markdown",
   "metadata": {},
   "source": [
    "###  实现 AdaBoost 的二分类"
   ]
  },
  {
   "cell_type": "code",
   "execution_count": null,
   "metadata": {},
   "outputs": [],
   "source": [
    "class AdaBoost:\n",
    "    \"\"\"\n",
    "    完成 二分类 \n",
    "\n",
    "    基分类器为 决策树桩 (stump)\n",
    "\n",
    "\n",
    "    \"\"\"\n",
    "\n",
    "    def __init__(self, error_rate_threshold =0.05, max_iter=10):\n",
    "\n",
    "        # 训练中止条件 error_rate <self.error_rate_threshold ( 若当前得到的基分类器的组合 错误率 小于阈值, 则停止训练)\n",
    "        self.error_rate_threshold = error_rate_threshold\n",
    "\n",
    "        # 最大迭代次数\n",
    "        self.max_iter = max_iter\n",
    "\n",
    "        self.G = []  # 弱分类器\n",
    "\n",
    "    def build_stump(self, X, y, w):\n",
    "        \"\"\"\n",
    "        以带权重的分类误差最小为目标，选择最佳 分类特征 和 分类特征的阈值\n",
    "\n",
    "        best_stump['feature'] 合适的特征所在维度\n",
    "        best_stump['value']  合适特征的阈值\n",
    "        best_stump['flag']  树桩分类的标识lt,rt\n",
    "\n",
    "        \"\"\"\n",
    "\n",
    "        best_stump = {}\n",
    "\n",
    "        feature_Num = np.shape(X)[1]  # 特征的数目\n",
    "\n",
    "        N = np.shape(X)[0]  # 样本的个数\n",
    "\n",
    "        min_em = float('inf')  # 最小的 分类误差率\n",
    "\n",
    "        min_em_y_predict = None  # 最小分类误差率 对应的 y 的预测值\n",
    "\n",
    "        for feature in range(feature_Num):  # 遍历 所有特征\n",
    "\n",
    "            feature_value_set = {v for v in X[:, feature]}\n",
    "\n",
    "            for value in feature_value_set:  # 遍历特征的所有取值\n",
    "\n",
    "                for flag in ['lt', 'rt']:  # 树桩的分类 标识,\n",
    "                    #  若为 'lt' , 则 左边( <= ) 为负例 -1, 右边( > )为正例 +1\n",
    "                    #  若为 'rt' , 则 左边( <= ) 为正例 +1, 右边( > )为 负例 -1\n",
    "\n",
    "                    y_predict = self.base_estimator(X[:, feature], value, flag)\n",
    "\n",
    "                    err_arr = np.ones(N, dtype=int)\n",
    "                    err_arr[y_predict == y] = 0  # y_predict 与 y 相等为0, 不等为1\n",
    "\n",
    "                    em = np.dot(w, err_arr)  # 公式 8.1 ; 加权的分类误差率 ( 样本权重的作用 )\n",
    "\n",
    "                    if em < min_em: z # 找到分类误差率 最小的 决策树 \n",
    "                        min_em = em\n",
    "                        min_em_y_predict = y_predict\n",
    "                        best_stump['feature'] = feature\n",
    "                        best_stump['value'] = value\n",
    "                        best_stump['flag'] = flag\n",
    "\n",
    "        return min_em, min_em_y_predict, best_stump\n",
    "\n",
    "    def updata_w(self, y, w, y_predict, alpha):\n",
    "        \"\"\"\n",
    "        更新样本权重w\n",
    "        \"\"\"\n",
    "        # 根据公式8.4 8.5 更新样本权重\n",
    "\n",
    "        p_arr = w * np.exp(-alpha * y_predict * y)\n",
    "\n",
    "        zm = np.sum(p_arr)\n",
    "\n",
    "        w = p_arr / zm\n",
    "\n",
    "        return w\n",
    "\n",
    "    def base_estimator(self, X_feature, value, flag):\n",
    "        \"\"\"\n",
    "        计算单个弱分类器（决策树桩）预测输出\n",
    "        \"\"\"\n",
    "        y_predict = np.zeros(len(X_feature), dtype=int)\n",
    "\n",
    "        if flag == 'lt':\n",
    "\n",
    "            y_predict[X_feature <= value] = -1\n",
    "            y_predict[X_feature > value] = 1\n",
    "\n",
    "        else:  # flag == 'rt':\n",
    "\n",
    "            y_predict[X_feature <= value] = 1\n",
    "            y_predict[X_feature > value] = -1\n",
    "\n",
    "        return y_predict\n",
    "\n",
    "    def fit(self, X, y):\n",
    "\n",
    "        \"\"\"\n",
    "        对训练数据进行学习\n",
    "        \"\"\"\n",
    "        N = np.shape(X)[0]\n",
    "\n",
    "        # 初始化样本权重w\n",
    "        w = np.ones((N)) * (1 / N)\n",
    "\n",
    "        f = 0  # 最终分类器\n",
    "\n",
    "        for m in range(self.max_iter):  # 进行 第 m 轮迭代\n",
    "\n",
    "            em, y_predict, best_stump = self.build_stump(X, y, w)\n",
    "\n",
    "            alpha = (1 / 2) * np.log((1 - em) / em)\n",
    "\n",
    "            self.G.append((alpha, best_stump))  # 存储 基分类器\n",
    "\n",
    "            # 当前 所有弱分类器加权 得到的 最终分类器 的 分类错误率\n",
    "\n",
    "            f += alpha * y_predict\n",
    "            G = np.sign(f)\n",
    "\n",
    "            err_arr = np.ones(N, dtype=int)\n",
    "            err_arr[G == y] = 0\n",
    "            err_rate = np.mean(err_arr)\n",
    "\n",
    "            print('round:{}, err_rate:{}'.format(m, err_rate))\n",
    "\n",
    "            if err_rate < self.error_rate_threshold:  # 错误率 已经小于 阈值, 则停止训练\n",
    "                break\n",
    "\n",
    "                # 更新 w\n",
    "            w = self.updata_w(y, w, y_predict, alpha)\n",
    "\n",
    "    def predict(self, X):\n",
    "        \"\"\"\n",
    "        对新数据进行预测\n",
    "\n",
    "        \"\"\"\n",
    "\n",
    "        f = 0  # 最终分类器\n",
    "\n",
    "        for alpha, best_stump in self.G:\n",
    "            y_predict = self.base_estimator(X[:, best_stump['feature']], best_stump['value'], best_stump['flag'])\n",
    "\n",
    "            f += alpha * y_predict\n",
    "\n",
    "        G = np.sign(f)\n",
    "\n",
    "        return G.astype(int)\n",
    "\n",
    "    def score(self, X, y):\n",
    "        \"\"\"对训练效果进行评价\"\"\"\n",
    "\n",
    "        G = self.predict(X)\n",
    "\n",
    "        N = np.shape(X)[0]  # 样本的个数\n",
    "\n",
    "        err_arr = np.ones(N, dtype=int)\n",
    "        err_arr[G == y] = 0\n",
    "        err_rate = np.mean(err_arr)\n",
    "\n",
    "        accuracy = 1 - err_rate\n",
    "\n",
    "        return accuracy"
   ]
  },
  {
   "cell_type": "code",
   "execution_count": null,
   "metadata": {},
   "outputs": [],
   "source": [
    "clf = AdaBoost()\n",
    "clf.fit(X,y)\n",
    "\n",
    "print(clf.G)\n",
    "\n",
    "y_predict = clf.predict(X)\n",
    "score = clf.score(X, y)\n",
    "\n",
    "print(\"原始输出:\", y)\n",
    "print(\"预测输出:\", y_predict)\n",
    "print(\"预测正确率：{:.2%}\".format(score))"
   ]
  },
  {
   "cell_type": "code",
   "execution_count": null,
   "metadata": {},
   "outputs": [],
   "source": [
    "def loadData( fileName, n=1000):\n",
    "    '''\n",
    "    加载文件\n",
    "    :param fileName:要加载的文件路径\n",
    "    :param n: 返回的数据集的规模\n",
    "    :return: 数据集和标签集\n",
    "    '''\n",
    "    # 存放数据及标记\n",
    "    dataArr = []\n",
    "    labelArr = []\n",
    "    # 读取文件\n",
    "    fr = open(fileName)\n",
    "\n",
    "    cnt = 0  # 计数器\n",
    "\n",
    "    # 遍历文件中的每一行\n",
    "    for line in fr.readlines():\n",
    "\n",
    "        if cnt == n:\n",
    "            break\n",
    "\n",
    "        # 获取当前行，并按“，”切割成字段放入列表中\n",
    "        # strip：去掉每行字符串首尾指定的字符（默认空格或换行符）\n",
    "        # split：按照指定的字符将字符串切割成每个字段，返回列表形式\n",
    "        curLine = line.strip().split(',')\n",
    "        # 将每行中除标记外的数据放入数据集中（curLine[0]为标记信息）\n",
    "        # 在放入的同时将原先字符串形式的数据转换为整型\n",
    "        # 此外将数据进行了二值化处理，大于128的转换成1，小于的转换成0，方便后续计算\n",
    "        dataArr.append([int(int(num) > 128) for num in curLine[1:]])\n",
    "\n",
    "\n",
    "        # 将标记信息放入标记集中\n",
    "        # 转换成二分类任务\n",
    "        # 标签0设置为1，反之为-1\n",
    "        if int(curLine[0]) == 0:\n",
    "            labelArr.append(1)\n",
    "        else:\n",
    "            labelArr.append(-1)\n",
    "\n",
    "        cnt += 1\n",
    "\n",
    "    fr.close()\n",
    "\n",
    "    # 返回数据集和标记\n",
    "    return dataArr, labelArr"
   ]
  },
  {
   "cell_type": "code",
   "execution_count": null,
   "metadata": {},
   "outputs": [],
   "source": [
    "n_train=60000\n",
    "n_test=10000\n",
    "\n",
    "\n",
    "# 获取训练集\n",
    "trainDataList, trainLabelList = loadData('../Mnist/mnist_train.csv', n=n_train)\n",
    "\n",
    "print('train data, row num:{} , column num:{} '.format(len(trainDataList), len(trainDataList[0])))\n",
    "\n",
    "trainDataArr = np.array(trainDataList)\n",
    "trainLabelArr = np.array(trainLabelList)"
   ]
  },
  {
   "cell_type": "code",
   "execution_count": null,
   "metadata": {},
   "outputs": [],
   "source": [
    "import time \n",
    "\n",
    "# 开始时间\n",
    "print('start training model....')\n",
    "start = time.time()\n",
    "\n",
    "clf = AdaBoost(error_rate_threshold=0.02, max_iter=40)\n",
    "clf.fit(trainDataArr, trainLabelArr)\n",
    "\n",
    "print(clf.G)\n",
    "\n",
    "# 结束时间\n",
    "end = time.time()\n",
    "print('training cost time :', end - start)"
   ]
  },
  {
   "cell_type": "code",
   "execution_count": null,
   "metadata": {},
   "outputs": [],
   "source": [
    "# 获取测试集\n",
    "testDataList, testLabelList = loadData('../Mnist/mnist_test.csv', n=n_test)\n",
    "\n",
    "print('test data, row num:{} , column num:{} '.format(len(testDataList), len(testDataList[0])))\n",
    "\n",
    "testDataArr = np.array(testDataList)\n",
    "testLabelArr = np.array(testLabelList)\n",
    "\n",
    "print('test dataset accuracy: {} '.format(clf.score(testDataArr, testLabelArr)) )"
   ]
  },
  {
   "cell_type": "markdown",
   "metadata": {},
   "source": [
    "### sklearn 的 AdaBoost 多分类 实现"
   ]
  },
  {
   "cell_type": "markdown",
   "metadata": {},
   "source": [
    "**sklearn AdaBoostClassifier 的 二分类实现:**"
   ]
  },
  {
   "cell_type": "code",
   "execution_count": null,
   "metadata": {},
   "outputs": [],
   "source": [
    "# sklearn AdaBoostClassifier \n",
    "\n",
    "from sklearn.ensemble import AdaBoostClassifier\n",
    "\n",
    "clf = AdaBoostClassifier()\n",
    "clf.fit(trainDataArr, trainLabelArr)\n",
    "\n",
    "\n",
    "score = clf.score(testDataArr, testLabelArr)\n",
    "\n",
    "print(\"测试集 正确率：{:.2%}\".format(score))"
   ]
  },
  {
   "cell_type": "markdown",
   "metadata": {},
   "source": [
    "**sklearn AdaBoostClassifier 的多分类实现:**"
   ]
  },
  {
   "cell_type": "code",
   "execution_count": null,
   "metadata": {},
   "outputs": [],
   "source": [
    "import numpy as np\n",
    "\n",
    "# sklearn AdaBoostClassifier 的 多分类\n",
    "\n",
    "def loadData( fileName, n=1000):\n",
    "    '''\n",
    "    加载文件\n",
    "    :param fileName:要加载的文件路径\n",
    "    :param n: 返回的数据集的规模\n",
    "    :return: 数据集和标签集\n",
    "    '''\n",
    "    # 存放数据及标记\n",
    "    dataArr = []\n",
    "    labelArr = []\n",
    "    # 读取文件\n",
    "    fr = open(fileName)\n",
    "\n",
    "    cnt = 0  # 计数器\n",
    "\n",
    "    # 遍历文件中的每一行\n",
    "    for line in fr.readlines():\n",
    "\n",
    "        if cnt == n:\n",
    "            break\n",
    "\n",
    "        # 获取当前行，并按“，”切割成字段放入列表中\n",
    "        # strip：去掉每行字符串首尾指定的字符（默认空格或换行符）\n",
    "        # split：按照指定的字符将字符串切割成每个字段，返回列表形式\n",
    "        curLine = line.strip().split(',')\n",
    "        # 将每行中除标记外的数据放入数据集中（curLine[0]为标记信息）\n",
    "        # 在放入的同时将原先字符串形式的数据转换为整型\n",
    "        # 此外将数据进行了二值化处理，大于128的转换成1，小于的转换成0，方便后续计算\n",
    "        dataArr.append([int(int(num) > 128) for num in curLine[1:]])\n",
    "\n",
    "\n",
    "        # 将标记信息放入标记集中\n",
    "        labelArr.append(int(curLine[0]))\n",
    "        cnt += 1\n",
    "\n",
    "    fr.close()\n",
    "\n",
    "    # 返回数据集和标记\n",
    "    return dataArr, labelArr"
   ]
  },
  {
   "cell_type": "code",
   "execution_count": null,
   "metadata": {},
   "outputs": [],
   "source": [
    "n_train=60000\n",
    "n_test=10000\n",
    "\n",
    "\n",
    "# 获取训练集\n",
    "trainDataList, trainLabelList = loadData('../Mnist/mnist_train.csv', n=n_train)\n",
    "\n",
    "print('train data, row num:{} , column num:{} '.format(len(trainDataList), len(trainDataList[0])))\n",
    "\n",
    "trainDataArr = np.array(trainDataList)\n",
    "trainLabelArr = np.array(trainLabelList)"
   ]
  },
  {
   "cell_type": "code",
   "execution_count": null,
   "metadata": {},
   "outputs": [],
   "source": [
    "# 获取测试集\n",
    "testDataList, testLabelList = loadData('../Mnist/mnist_test.csv', n=n_test)\n",
    "\n",
    "print('test data, row num:{} , column num:{} '.format(len(testDataList), len(testDataList[0])))\n",
    "\n",
    "testDataArr = np.array(testDataList)\n",
    "testLabelArr = np.array(testLabelList)"
   ]
  },
  {
   "cell_type": "code",
   "execution_count": null,
   "metadata": {},
   "outputs": [],
   "source": [
    "'''\n",
    "AdaBoostClassifier参数解释\n",
    "base_estimator:弱分类器，默认是CART分类树：DecisionTressClassifier\n",
    "\n",
    "algorithm：在scikit-learn实现了两种AdaBoost分类算法，即SAMME和SAMME.R，\n",
    "           SAMME就是原理篇介绍到的AdaBoost算法，指Discrete AdaBoost\n",
    "           \n",
    "           SAMME.R指Real AdaBoost，返回值不再是离散的类型，而是一个表示概率的实数值，算法流程见后文\n",
    "           两者的主要区别是弱分类器权重的度量，SAMME使用了分类效果作为弱分类器权重，SAMME.R使用了预测概率作为弱分类器权重。\n",
    "           SAMME.R的迭代一般比SAMME快，默认算法是SAMME.R。因此，base_estimator必须使用支持概率预测的分类器。\n",
    "\n",
    "loss：这个只在回归中用到，不解释了\n",
    "n_estimator:最大迭代次数，默认50。在实际调参过程中，常常将n_estimator和学习率learning_rate一起考虑\n",
    "\n",
    "learning_rate:每个弱分类器的权重缩减系数v。f_k(x)=f_{k-1}*a_k*G_k(x)。较小的v意味着更多的迭代次数，默认是1，也就是v不发挥作用。\n",
    "另外的弱分类器的调参，弱分类器不同则参数不同，这里不详细叙述\n",
    "\n",
    "'''"
   ]
  },
  {
   "cell_type": "code",
   "execution_count": null,
   "metadata": {},
   "outputs": [],
   "source": [
    "# sklearn AdaBoostClassifier \n",
    "\n",
    "from sklearn.ensemble import AdaBoostClassifier\n",
    "from sklearn.tree import DecisionTreeClassifier\n",
    "\n",
    "clf = AdaBoostClassifier(DecisionTreeClassifier(max_depth=5)\n",
    "                        ,algorithm=\"SAMME\",n_estimators=25, learning_rate=0.8)\n",
    "\n",
    "\n",
    "clf.fit(trainDataArr, trainLabelArr)\n",
    "\n",
    "\n",
    "score = clf.score(testDataArr, testLabelArr)\n",
    "\n",
    "print(\"测试集 正确率：{:.2%}\".format(score))  #  90.59%: SAMME.R ,max_depth=5 ,n_estimators=100 ,learning_rate=0.8\n",
    "                                              #  87.19%: SAMME ,max_depth=5 ,n_estimators=25 ,learning_rate=0.8"
   ]
  },
  {
   "cell_type": "markdown",
   "metadata": {},
   "source": [
    "#### 关键问题：AdaBoost 每次迭代 改变的样本权重是如何 带入到 基分类器 (eg.决策树) 的 训练中的\n",
    "\n",
    "\n",
    "样本权重会影响 基尼指数的计算，进而影响节点的划分和决策树的构造\n",
    "\n",
    "样本权值，本质上是样本的数量分布。要影响到弱分类器 ，分两种情况:\n",
    "\n",
    "1. 通过修改弱分类器代码，使它支持带权值的训练样本。不同弱分类器修改方法也不同，一般需要修改损失函数，拿LR来说，如果原来的损失函数是cost(x)，那么现在应该是w*cost(x)，w是样本权值，对于树模型，则需要修改信息增益或者gini的公式，引入权值 。\n",
    "\n",
    "2. 如果不方便修改分类器代码，那么可以对训练样本，进行bootstrap抽样，每次抽样的概率等于样本权值 ，这样可以达到类似效果，不过不如第一种方法直接。\n",
    "\n",
    "\n",
    "adaboost，使用LR或者SVM这样的线性强分类器，可能造成两个问题:\n",
    "\n",
    "1. 第一次产生的分类器错误率上已经达到极限，使后面的分类器起不到效果，或者说分类器的差异性太小\n",
    "2. 训练出来的多个分类器，基本是相似位置的超平面 ，也就是说，最后组合得到的，还是一个线性分类器，因此模型对数据的拟合能力，不如非线性分类器，达不到adaboost组合变强的效果\n",
    "\n",
    "ref:\n",
    "https://stackoverflow.com/questions/34389624/what-does-sample-weight-do-to-the-way-a-decisiontreeclassifier-works-in-skle"
   ]
  },
  {
   "cell_type": "code",
   "execution_count": 26,
   "metadata": {},
   "outputs": [
    {
     "name": "stdout",
     "output_type": "stream",
     "text": [
      "[ 0.5 -2.  -2. ]\n",
      "[0.44444444 0.         0.5       ]\n",
      "                                       0 -> 0.5\n",
      "                                      -2 -> -2.0\n",
      "                                      -2 -> -2.0\n"
     ]
    },
    {
     "data": {
      "image/png": "[encoded data removed]",
      "text/plain": [
       "<Figure size 720x360 with 1 Axes>"
      ]
     },
     "metadata": {
      "needs_background": "light"
     },
     "output_type": "display_data"
    }
   ],
   "source": [
    "from sklearn.tree import DecisionTreeClassifier , plot_tree\n",
    "\n",
    "X = [[0],\n",
    "     [1],\n",
    "     [2]] # 3 simple training examples\n",
    "\n",
    "Y = [ 1,  2,  1 ] # class labels\n",
    "\n",
    "X=np.array(X)\n",
    "Y = np.array(Y)\n",
    "\n",
    "dtc = DecisionTreeClassifier(max_depth=1,criterion=\"gini\", splitter='best')\n",
    "\n",
    "dtc.fit(X,Y)\n",
    "\n",
    "print (dtc.tree_.threshold) # threshold 为划分的 阈值\n",
    "# [0.5, -2, -2]\n",
    "print (dtc.tree_.impurity) #  impurity 为 各个节点的基尼不纯度\n",
    "# [0.44444444, 0, 0.5]\n",
    "# values 为 该节点中 不同分类的样本 个数\n",
    "\n",
    "\n",
    "for name, val in zip(dtc.tree_.feature, dtc.tree_.threshold):\n",
    "    print(f\"{name:>40} -> {val}\")\n",
    "\n",
    "plt.figure(figsize=(10, 5))\n",
    "plot_tree(dtc) \n",
    "plt.show()"
   ]
  },
  {
   "cell_type": "code",
   "execution_count": 19,
   "metadata": {},
   "outputs": [
    {
     "name": "stdout",
     "output_type": "stream",
     "text": [
      "T.feature:None,T.feature_value:None, T.gini:0.0 \n",
      "T.prev_feature:0,T.prev_feature_value:1-Yes \n",
      "T.childs:None\n",
      "Tree depth:1\n",
      "T.label:2\n",
      "-----------\n",
      "T.feature:None,T.feature_value:None, T.gini:0.0 \n",
      "T.prev_feature:0,T.prev_feature_value:1-No \n",
      "T.childs:None\n",
      "Tree depth:1\n",
      "T.label:1\n",
      "-----------\n",
      "T.feature:0,T.feature_value:1, T.gini:0.4444444444444444 \n",
      "T.prev_feature:None,T.prev_feature_value:None \n",
      "T.childs:{0: <CartTree_classification_xrh.Node object at 0x000001F508081320>, 1: <CartTree_classification_xrh.Node object at 0x000001F503BD63C8>}\n",
      "Tree depth:0\n",
      "T.label:None\n",
      "-----------\n"
     ]
    }
   ],
   "source": [
    "from CartTree_classification_xrh import *\n",
    "\n",
    "CT = CartTree(max_depth=1)\n",
    "\n",
    "CT.fit(X,Y)"
   ]
  },
  {
   "cell_type": "markdown",
   "metadata": {},
   "source": [
    "**计算基尼指数:**\n",
    "\n",
    "1.对于 父节点:\n",
    "\n",
    "p = Pr(Class=1) = 2 / 3  一共有 3 个样本( samples=3 ), \n",
    "\n",
    "value=[2,1] 样本的权重都为 1 ,类型1样本有2个, 总价值为2， 类型2 的样本 有1个, 总价值为 1  \n",
    "\n",
    "gini = 2*(2.0/3.0)*(1.0/3.0) = 4/9 =0.444"
   ]
  },
  {
   "cell_type": "code",
   "execution_count": 46,
   "metadata": {},
   "outputs": [
    {
     "name": "stdout",
     "output_type": "stream",
     "text": [
      "[ 1.5 -2.  -2. ]\n",
      "[0.46280992 0.44444444 0.        ]\n",
      "                                       0 -> 1.5\n",
      "                                      -2 -> -2.0\n",
      "                                      -2 -> -2.0\n"
     ]
    },
    {
     "data": {
      "image/png": "[encoded data removed]",
      "text/plain": [
       "<Figure size 720x360 with 1 Axes>"
      ]
     },
     "metadata": {
      "needs_background": "light"
     },
     "output_type": "display_data"
    }
   ],
   "source": [
    "# 样本 权重会改变 基尼指数的计算, 进而改变 节点的划分\n",
    "\n",
    "X = [[0],[1],[2]] # 3 simple training examples\n",
    "Y = [ 1,  2,  1 ] # class labels\n",
    "\n",
    "X=np.array(X)\n",
    "Y = np.array(Y)\n",
    "\n",
    "sample_weight=np.array([1,2,2.5])\n",
    "\n",
    "dtc.fit(X,Y,sample_weight=sample_weight)\n",
    "print (dtc.tree_.threshold)\n",
    "# [1.5, -2, -2]\n",
    "print (dtc.tree_.impurity)\n",
    "# [0.44444444, 0.44444444, 0.]\n",
    "\n",
    " # value 为 该节点中 不同 分类的 样本 总分值\n",
    "\n",
    "for name, val in zip(dtc.tree_.feature, dtc.tree_.threshold):\n",
    "    print(f\"{name:>40} -> {val}\")\n",
    "\n",
    "plt.figure(figsize=(10, 5))\n",
    "plot_tree(dtc) \n",
    "plt.show()"
   ]
  },
  {
   "cell_type": "markdown",
   "metadata": {},
   "source": [
    "**计算基尼指数:**\n",
    "\n",
    "1.对于 父节点:\n",
    "\n",
    "它含有 两种类型的样本, 各个样本的权重分别为 [1,2,3]\n",
    "\n",
    "p = Pr(Class=1) = (1+3) / (1+2+3) = 2.0/3.0  将样本的权重 考虑进来 ,\n",
    "\n",
    "value=[4,2] : 类型为1 的样本有2个, 他们的权重分别为 [1,3], 总价值为 4 ; 类型为2 的样本有1个, 它的权重为 2，总价值为 2\n",
    "\n",
    "\n",
    "\n",
    "gini = 2*(2.0/3.0)*(1.0/3.0) = 4/9 =0.444\n",
    "\n",
    "\n",
    "2.对于左子节点\n",
    "\n",
    "p = Pr(Class=1) = 1 / (1+2)  = 1/3\n",
    "\n",
    "gini = 2*(1.0/3.0)*(2.0/3.0) = 4/9 =0.444\n",
    "\n",
    "\n",
    "2.对于 右子节点\n",
    "\n",
    "p = Pr(Class=1) = 3 / (3+0)  = 1 \n",
    "\n",
    "gini=0"
   ]
  },
  {
   "cell_type": "code",
   "execution_count": 47,
   "metadata": {},
   "outputs": [
    {
     "name": "stdout",
     "output_type": "stream",
     "text": [
      "T.feature:None,T.feature_value:None, T.gini:0.0 \n",
      "T.prev_feature:0,T.prev_feature_value:1-Yes \n",
      "T.childs:None\n",
      "Tree depth:1\n",
      "T.label:2\n",
      "-----------\n",
      "T.feature:None,T.feature_value:None, T.gini:0.0 \n",
      "T.prev_feature:0,T.prev_feature_value:1-No \n",
      "T.childs:None\n",
      "Tree depth:1\n",
      "T.label:1\n",
      "-----------\n",
      "T.feature:0,T.feature_value:1, T.gini:0.4628099173553719 \n",
      "T.prev_feature:None,T.prev_feature_value:None \n",
      "T.childs:{0: <CartTree_classification_xrh.Node object at 0x000000000EFBDD60>, 1: <CartTree_classification_xrh.Node object at 0x000000000EFCEFD0>}\n",
      "Tree depth:0\n",
      "T.label:None\n",
      "-----------\n"
     ]
    }
   ],
   "source": [
    "CT = CartTree(max_depth=1)\n",
    "\n",
    "sample_weight=np.array([1,2,2.5])\n",
    "\n",
    "CT.fit(X,Y,sample_weight=sample_weight)"
   ]
  },
  {
   "cell_type": "code",
   "execution_count": 31,
   "metadata": {},
   "outputs": [
    {
     "name": "stdout",
     "output_type": "stream",
     "text": [
      "                                 alcohol -> 0.04727507393151268\n",
      "                              malic_acid -> 0.0\n",
      "                                     ash -> 0.0\n",
      "                       alcalinity_of_ash -> 0.0\n",
      "                               magnesium -> 0.0329784450464887\n",
      "                           total_phenols -> 0.0\n",
      "                              flavanoids -> 0.1414466773122087\n",
      "                    nonflavanoid_phenols -> 0.0\n",
      "                         proanthocyanins -> 0.0\n",
      "                         color_intensity -> 0.0\n",
      "                                     hue -> 0.08378677906228588\n",
      "            od280/od315_of_diluted_wines -> 0.3120425747831769\n",
      "                                 proline -> 0.38247044986432716\n",
      "\n",
      "                                      12 -> 755.0\n",
      "                                      11 -> 2.1149998903274536\n",
      "                                      10 -> 0.9350000023841858\n",
      "                                       6 -> 1.5800000429153442\n",
      "                                      -2 -> -2.0\n",
      "                                      -2 -> -2.0\n",
      "                                       0 -> 13.514999866485596\n",
      "                                      -2 -> -2.0\n",
      "                                      -2 -> -2.0\n",
      "                                       6 -> 0.7950000166893005\n",
      "                                      -2 -> -2.0\n",
      "                                       0 -> 13.174999713897705\n",
      "                                      -2 -> -2.0\n",
      "                                       0 -> 13.364999771118164\n",
      "                                      -2 -> -2.0\n",
      "                                      -2 -> -2.0\n",
      "                                       6 -> 2.165000081062317\n",
      "                                      10 -> 0.8030000030994415\n",
      "                                      -2 -> -2.0\n",
      "                                      -2 -> -2.0\n",
      "                                       4 -> 135.5\n",
      "                                      -2 -> -2.0\n",
      "                                      -2 -> -2.0\n"
     ]
    },
    {
     "data": {
      "image/png": "[encoded data removed]",
      "text/plain": [
       "<Figure size 1440x864 with 1 Axes>"
      ]
     },
     "metadata": {
      "needs_background": "light"
     },
     "output_type": "display_data"
    }
   ],
   "source": [
    "from sklearn import datasets\n",
    "from sklearn.tree import DecisionTreeClassifier, plot_tree, _tree\n",
    "import numpy as np\n",
    "import matplotlib.pyplot as plt\n",
    "\n",
    "wine = datasets.load_wine()\n",
    "\n",
    "# Feature importance\n",
    "\n",
    "clf = DecisionTreeClassifier(criterion=\"gini\", splitter='best')\n",
    "clf = clf.fit(wine.data, wine.target)\n",
    "\n",
    "for name, val in zip(wine.feature_names, clf.feature_importances_):\n",
    "    print(f\"{name:>40} -> {val}\")\n",
    "\n",
    "print(\"\")\n",
    "\n",
    "for name, val in zip(clf.tree_.feature, clf.tree_.threshold):\n",
    "    print(f\"{name:>40} -> {val}\")\n",
    "\n",
    "\n",
    "# plot model\n",
    "plt.figure(figsize=(20, 12))\n",
    "plot_tree(clf) \n",
    "plt.show()"
   ]
  },
  {
   "cell_type": "code",
   "execution_count": 14,
   "metadata": {},
   "outputs": [
    {
     "data": {
      "text/plain": [
       "(178, 13)"
      ]
     },
     "execution_count": 14,
     "metadata": {},
     "output_type": "execute_result"
    }
   ],
   "source": [
    "np.shape(wine.data)"
   ]
  },
  {
   "cell_type": "code",
   "execution_count": 58,
   "metadata": {},
   "outputs": [
    {
     "name": "stdout",
     "output_type": "stream",
     "text": [
      "[['1' '1' '1' '1' '1']\n",
      " ['1' '1' '1' '2' '1']\n",
      " ['1' '0' '1' '2' '0']\n",
      " ['1' '0' '0' '1' '0']\n",
      " ['1' '1' '1' '1' '1']\n",
      " ['0' '1' '1' '1' '1']\n",
      " ['0' '1' '1' '2' '1']\n",
      " ['0' '0' '0' '2' '0']\n",
      " ['0' '1' '0' '0' '0']\n",
      " ['0' '1' '0' '0' '0']\n",
      " ['2' '1' '0' '0' '0']\n",
      " ['2' '1' '0' '2' '0']\n",
      " ['2' '0' '1' '2' '0']\n",
      " ['2' '0' '1' '0' '0']\n",
      " ['2' '1' '1' '1' '1']]\n",
      "[{'中年': 0, '青年': 1, '老年': 2}, {'是': 0, '否': 1}, {'是': 0, '否': 1}, {'非常好': 0, '一般': 1, '好': 2}, {'是': 0, '否': 1}]\n"
     ]
    }
   ],
   "source": [
    "datasets = [['青年', '否', '否', '一般', '否'],\n",
    "            ['青年', '否', '否', '好', '否'],\n",
    "            ['青年', '是', '否', '好', '是'],\n",
    "            ['青年', '是', '是', '一般', '是'],\n",
    "            ['青年', '否', '否', '一般', '否'],\n",
    "            ['中年', '否', '否', '一般', '否'],\n",
    "            ['中年', '否', '否', '好', '否'],\n",
    "            ['中年', '是', '是', '好', '是'],\n",
    "            ['中年', '否', '是', '非常好', '是'],\n",
    "            ['中年', '否', '是', '非常好', '是'],\n",
    "            ['老年', '否', '是', '非常好', '是'],\n",
    "            ['老年', '否', '是', '好', '是'],\n",
    "            ['老年', '是', '否', '好', '是'],\n",
    "            ['老年', '是', '否', '非常好', '是'],\n",
    "            ['老年', '否', '否', '一般', '否'],\n",
    "            ]\n",
    "\n",
    "\n",
    "class PreProcess:\n",
    "    \"\"\"\n",
    "\n",
    "    数据集的 预处理\n",
    "\n",
    "    \"\"\"\n",
    "\n",
    "    @staticmethod\n",
    "    def ordinal_encoding(dataset):\n",
    "        \"\"\"\n",
    "        序号编码\n",
    "\n",
    "        将类别型特征 转换为 数值型特征\n",
    "\n",
    "        :param dataset:\n",
    "        :return:\n",
    "        \"\"\"\n",
    "\n",
    "        N, feature_Num = np.shape(dataset)\n",
    "\n",
    "        features_idx_category_dic=[]\n",
    "\n",
    "        for i in range(feature_Num):\n",
    "\n",
    "            feature_i_category_set = {ele for ele in dataset[:, i]}  # 第i 个特征的 类别集合\n",
    "\n",
    "            feature_i_idx_category_dic = {}\n",
    "\n",
    "            for category, idx in zip(feature_i_category_set, range(len(feature_i_category_set))):\n",
    "                feature_i_idx_category_dic[category] = idx\n",
    "\n",
    "            features_idx_category_dic.append( feature_i_idx_category_dic ) # 存储 所有 类别型特征 和 转换后的数值型特征的对应关系\n",
    "\n",
    "            dataset[:, i] = list(map(lambda x: feature_i_idx_category_dic[x], dataset[:, i]))\n",
    "\n",
    "        return dataset,features_idx_category_dic\n",
    "\n",
    "    \n",
    "\n",
    "datasets= np.array(datasets)\n",
    "\n",
    "dataset,features_idx_category_dic=PreProcess.ordinal_encoding(datasets)\n",
    "\n",
    "print(datasets)\n",
    "\n",
    "print(features_idx_category_dic)"
   ]
  },
  {
   "cell_type": "code",
   "execution_count": 61,
   "metadata": {},
   "outputs": [
    {
     "data": {
      "text/plain": [
       "0"
      ]
     },
     "execution_count": 61,
     "metadata": {},
     "output_type": "execute_result"
    }
   ],
   "source": [
    "from collections import Counter\n",
    "\n",
    "\n",
    "Counter(y).most_common(1)[0][0]"
   ]
  },
  {
   "cell_type": "code",
   "execution_count": 65,
   "metadata": {},
   "outputs": [
    {
     "data": {
      "text/plain": [
       "'b'"
      ]
     },
     "execution_count": 65,
     "metadata": {},
     "output_type": "execute_result"
    }
   ],
   "source": [
    "dict={'a':1,'b':2}\n",
    "\n",
    "max( dict.items() , key=lambda ele: ele[1]  )[0]"
   ]
  },
  {
   "cell_type": "markdown",
   "metadata": {},
   "source": [
    "#### 关键问题：如何 利用 softmax 实现多分类器"
   ]
  },
  {
   "cell_type": "markdown",
   "metadata": {},
   "source": [
    "**使用SAMME 的 AdaBoost 多分类**\n",
    "\n",
    "ref: https://blog.csdn.net/kalath_aiur/article/details/105234675"
   ]
  },
  {
   "cell_type": "code",
   "execution_count": 49,
   "metadata": {},
   "outputs": [],
   "source": [
    "import numpy as np\n",
    "\n",
    "from sklearn import datasets\n",
    "\n",
    "from sklearn.model_selection import train_test_split\n",
    "\n",
    "from sklearn.ensemble import AdaBoostClassifier\n",
    "from sklearn.tree import DecisionTreeClassifier,plot_tree\n",
    "\n",
    "# 使用iris数据集，其中有三个分类， y的取值为0,1，2\n",
    "\n",
    "iris= datasets.load_iris()  # 包括150行记录\n",
    "\n",
    "X,y= iris.data,iris.target\n",
    "\n",
    "# 将数据集一分为二，训练数据占80%，测试数据占20%\n",
    "X_train,X_test,y_train,y_test = train_test_split(X,y,test_size = 0.2,random_state = 1024)"
   ]
  },
  {
   "cell_type": "code",
   "execution_count": 6,
   "metadata": {},
   "outputs": [
    {
     "data": {
      "text/plain": [
       "(120, 4)"
      ]
     },
     "execution_count": 6,
     "metadata": {},
     "output_type": "execute_result"
    }
   ],
   "source": [
    "np.shape(X_train)"
   ]
  },
  {
   "cell_type": "code",
   "execution_count": 50,
   "metadata": {},
   "outputs": [],
   "source": [
    "ada = AdaBoostClassifier(DecisionTreeClassifier(max_depth=1),n_estimators=3,algorithm='SAMME',learning_rate=1.0)\n",
    "ada.fit(X_train,y_train)\n",
    "learning_rate = 1.0\n",
    "num = 3"
   ]
  },
  {
   "cell_type": "code",
   "execution_count": null,
   "metadata": {},
   "outputs": [],
   "source": []
  },
  {
   "cell_type": "code",
   "execution_count": 51,
   "metadata": {},
   "outputs": [
    {
     "data": {
      "text/plain": [
       "0.9666666666666667"
      ]
     },
     "execution_count": 51,
     "metadata": {},
     "output_type": "execute_result"
    }
   ],
   "source": [
    "ada.score(X_test,y_test)"
   ]
  },
  {
   "cell_type": "code",
   "execution_count": 52,
   "metadata": {},
   "outputs": [
    {
     "data": {
      "text/plain": [
       "[Text(167.4, 163.07999999999998, 'X[2] <= 2.6\\ngini = 0.666\\nsamples = 120\\nvalue = [0.325, 0.35, 0.325]'),\n",
       " Text(83.7, 54.360000000000014, 'gini = 0.0\\nsamples = 39\\nvalue = [0.325, 0.0, 0.0]'),\n",
       " Text(251.10000000000002, 54.360000000000014, 'gini = 0.499\\nsamples = 81\\nvalue = [0.0, 0.35, 0.325]')]"
      ]
     },
     "execution_count": 52,
     "metadata": {},
     "output_type": "execute_result"
    },
    {
     "data": {
      "image/png": "[encoded data removed]",
      "text/plain": [
       "<Figure size 432x288 with 1 Axes>"
      ]
     },
     "metadata": {
      "needs_background": "light"
     },
     "output_type": "display_data"
    }
   ],
   "source": [
    "plot_tree(ada[0])"
   ]
  },
  {
   "cell_type": "code",
   "execution_count": 57,
   "metadata": {},
   "outputs": [
    {
     "name": "stdout",
     "output_type": "stream",
     "text": [
      "                                       2 -> 2.599999964237213\n",
      "                                      -2 -> -2.0\n",
      "                                      -2 -> -2.0\n"
     ]
    }
   ],
   "source": [
    "for name, val in zip(ada[0].tree_.feature, ada[0].tree_.threshold):\n",
    "    print(f\"{name:>40} -> {val}\")"
   ]
  },
  {
   "cell_type": "code",
   "execution_count": 53,
   "metadata": {},
   "outputs": [
    {
     "data": {
      "text/plain": [
       "array([[[0.325, 0.35 , 0.325]],\n",
       "\n",
       "       [[0.325, 0.   , 0.   ]],\n",
       "\n",
       "       [[0.   , 0.35 , 0.325]]])"
      ]
     },
     "execution_count": 53,
     "metadata": {},
     "output_type": "execute_result"
    }
   ],
   "source": [
    "ada[0].tree_.value"
   ]
  },
  {
   "cell_type": "code",
   "execution_count": 54,
   "metadata": {},
   "outputs": [
    {
     "data": {
      "text/plain": [
       "[Text(167.4, 163.07999999999998, 'X[2] <= 4.75\\ngini = 0.5\\nsamples = 120\\nvalue = [0.16, 0.173, 0.667]'),\n",
       " Text(83.7, 54.360000000000014, 'gini = 0.547\\nsamples = 77\\nvalue = [0.16, 0.152, 0.017]'),\n",
       " Text(251.10000000000002, 54.360000000000014, 'gini = 0.06\\nsamples = 43\\nvalue = [0.0, 0.021, 0.65]')]"
      ]
     },
     "execution_count": 54,
     "metadata": {},
     "output_type": "execute_result"
    },
    {
     "data": {
      "image/png": "[encoded data removed]",
      "text/plain": [
       "<Figure size 432x288 with 1 Axes>"
      ]
     },
     "metadata": {
      "needs_background": "light"
     },
     "output_type": "display_data"
    }
   ],
   "source": [
    "plot_tree(ada[1])"
   ]
  },
  {
   "cell_type": "code",
   "execution_count": 55,
   "metadata": {},
   "outputs": [
    {
     "data": {
      "text/plain": [
       "[Text(167.4, 163.07999999999998, 'X[3] <= 1.65\\ngini = 0.52\\nsamples = 120\\nvalue = [0.066, 0.607, 0.327]'),\n",
       " Text(83.7, 54.360000000000014, 'gini = 0.234\\nsamples = 82\\nvalue = [0.066, 0.578, 0.021]'),\n",
       " Text(251.10000000000002, 54.360000000000014, 'gini = 0.158\\nsamples = 38\\nvalue = [0.0, 0.029, 0.306]')]"
      ]
     },
     "execution_count": 55,
     "metadata": {},
     "output_type": "execute_result"
    },
    {
     "data": {
      "image/png": "[encoded data removed]",
      "text/plain": [
       "<Figure size 432x288 with 1 Axes>"
      ]
     },
     "metadata": {
      "needs_background": "light"
     },
     "output_type": "display_data"
    }
   ],
   "source": [
    "plot_tree(ada[2])"
   ]
  },
  {
   "cell_type": "code",
   "execution_count": null,
   "metadata": {},
   "outputs": [],
   "source": [
    "# 1）首先计算第一个弱分类器权重，并更新样本权重。\n",
    "\n",
    "# 初始化样本权重，每个样本的权重相同\n",
    "w0 = np.full(shape = 120,fill_value=1/120)\n",
    "# 计算弱分类器误差\n",
    "\n",
    "y1 = ada[0].predict(X_train) # 第一个弱分类器的输出\n",
    "\n",
    "e1 = ((y1 != y_train)*w0).sum()  # y1为弱分类器的预测值，y_train为真实值\n",
    "# 计算弱分类器权重\n",
    "a1 = np.round(learning_rate*(np.log((1-e1)/e1) + np.log(num - 1)),8)\n",
    "# 更新样本权重\n",
    "w1 = w0*np.exp(a1*(y_train != y1))\n",
    "w1 /= w1.sum()"
   ]
  },
  {
   "cell_type": "code",
   "execution_count": null,
   "metadata": {},
   "outputs": [],
   "source": [
    "# 2）计算第二个弱分类器权重，更新样本权重\n",
    "\n",
    "# 计算弱分类器误差\n",
    "\n",
    "y2 = ada[1].predict(X_train) # 第二个弱分类器的输出\n",
    "\n",
    "e2 = ((y2 != y_train)*w1).sum()\n",
    "# 计算弱分类器权重\n",
    "a2 = np.round(learning_rate*(np.log((1-e2)/e2) + np.log(num - 1)),8)\n",
    "# 更新样本权重\n",
    "w2 = w1*np.exp(a2*(y_train != y2))\n",
    "w2 /= w2.sum()"
   ]
  },
  {
   "cell_type": "code",
   "execution_count": null,
   "metadata": {},
   "outputs": [],
   "source": [
    "# 3）计算第三个弱分类器权重，更新样本权重\n",
    "\n",
    "# 计算弱分类器误差\n",
    "\n",
    "y3 = ada[2].predict(X_train) # 第三个弱分类器的输出\n",
    "\n",
    "e3 = ((y3 != y_train)*w2).sum()\n",
    "# 计算弱分类器权重\n",
    "a3 = np.round(learning_rate*(np.log((1-e3)/e3) + np.log(num - 1)),8)\n",
    "# 更新样本权重\n",
    "w3 = w2*np.exp(a3*(y_train != y3))\n",
    "w3 /= w3.sum()"
   ]
  },
  {
   "cell_type": "code",
   "execution_count": null,
   "metadata": {},
   "outputs": [],
   "source": [
    "e1,e2,e3"
   ]
  },
  {
   "cell_type": "code",
   "execution_count": null,
   "metadata": {},
   "outputs": [],
   "source": [
    "y_predict= ada[2].predict(X_test)\n",
    "\n",
    "print(y_predict)\n",
    "print(np.shape(y_predict))"
   ]
  },
  {
   "cell_type": "code",
   "execution_count": null,
   "metadata": {},
   "outputs": [],
   "source": [
    "np.array([[0],[1],[2]])"
   ]
  },
  {
   "cell_type": "code",
   "execution_count": null,
   "metadata": {},
   "outputs": [],
   "source": [
    "# 4）将 预测向量 扩展为 one-hot \n",
    "\n",
    "y_predict_one_hot= (ada[0].predict(X_test) == np.array([[0],[1],[2]])).T.astype(np.int8)\n",
    "\n",
    "print(y_predict_one_hot)\n",
    "print(np.shape(y_predict_one_hot))"
   ]
  },
  {
   "cell_type": "code",
   "execution_count": null,
   "metadata": {},
   "outputs": [],
   "source": [
    "# 5） 由3个弱分类器组合成强分类器。\n",
    "\n",
    "# 第一个弱分类器的预测结果\n",
    "y1_ = (ada[0].predict(X_test) == np.array([[0],[1],[2]])).T.astype(np.int8)\n",
    "# 第二个弱分类器的预测结果\n",
    "y2_ = (ada[1].predict(X_test) == np.array([[0],[1],[2]])).T.astype(np.int8)\n",
    "# 第三个弱分类器的预测结果\n",
    "y3_ = (ada[2].predict(X_test) == np.array([[0],[1],[2]])).T.astype(np.int8)\n",
    "\n",
    "F = y1_*a1 + y2_*a2 + y3_*a3 # 强分类器"
   ]
  },
  {
   "cell_type": "code",
   "execution_count": null,
   "metadata": {},
   "outputs": [],
   "source": [
    "print(F)\n",
    "print(np.shape(F))"
   ]
  },
  {
   "cell_type": "code",
   "execution_count": null,
   "metadata": {},
   "outputs": [],
   "source": [
    "estimator_weights = np.array([a1, a2, a3])\n",
    "F /= estimator_weights.sum() \n",
    "F /= (num -1)\n",
    "F"
   ]
  },
  {
   "cell_type": "code",
   "execution_count": null,
   "metadata": {},
   "outputs": [],
   "source": [
    "(np.e**F).sum(axis = 1).reshape(-1,1)"
   ]
  },
  {
   "cell_type": "code",
   "execution_count": null,
   "metadata": {},
   "outputs": [],
   "source": [
    "np.e**F / ((np.e**F).sum(axis = 1).reshape(-1,1))"
   ]
  },
  {
   "cell_type": "code",
   "execution_count": null,
   "metadata": {},
   "outputs": [],
   "source": [
    "# 6）softmax处理，将结果转化为概率，使得大的值变的更大，小的值变得更小\n",
    "\n",
    "pred = np.e**F / ((np.e**F).sum(axis = 1).reshape(-1,1))"
   ]
  },
  {
   "cell_type": "code",
   "execution_count": null,
   "metadata": {},
   "outputs": [],
   "source": [
    "pred"
   ]
  },
  {
   "cell_type": "code",
   "execution_count": null,
   "metadata": {},
   "outputs": [],
   "source": [
    "# 7） 取 概率最大的 作为 预测的标签 \n",
    "\n",
    "pred = np.argmax(pred, axis=1)"
   ]
  },
  {
   "cell_type": "code",
   "execution_count": null,
   "metadata": {},
   "outputs": [],
   "source": [
    "pred"
   ]
  },
  {
   "cell_type": "code",
   "execution_count": null,
   "metadata": {},
   "outputs": [],
   "source": [
    "ada.predict(X_test)"
   ]
  },
  {
   "cell_type": "markdown",
   "metadata": {},
   "source": [
    "### 实现 AdaBoost 的多分类"
   ]
  },
  {
   "cell_type": "code",
   "execution_count": 6,
   "metadata": {},
   "outputs": [],
   "source": [
    "import sys \n",
    "\n",
    "sys.path.append('E:\\\\python package\\\\python-project\\\\统计学习方法\\\\Statistical-Learning-Method_Code-master\\\\DecisionTree')"
   ]
  },
  {
   "cell_type": "code",
   "execution_count": 7,
   "metadata": {},
   "outputs": [],
   "source": [
    "\n",
    "\n",
    "from CartTree_classification_xrh import *\n",
    "\n",
    "\n",
    "class AdaBoost_SAMME:\n",
    "    \"\"\"\n",
    "\n",
    "    SAMME 算法 实现 AdaBoost 的多分类\n",
    "\n",
    "    基分类器为 CART分类树\n",
    "\n",
    "    Author: xrh\n",
    "    Date: 2021-03-30\n",
    "\n",
    "    ref:\n",
    "\n",
    "    test1: 多分类任务\n",
    "\n",
    "    数据集：Mnist\n",
    "    参数: n_estimators=20,learning_rate=0.8\n",
    "    训练集数量：60000\n",
    "    测试集数量：10000\n",
    "    正确率：0.8577\n",
    "    模型训练时长：1099s\n",
    "\n",
    "    \"\"\"\n",
    "\n",
    "    def __init__(self, error_rate_threshold=0.05, n_estimators=10, learning_rate=1.0, algorithm='SAMME',max_depth=5):\n",
    "        \"\"\"\n",
    "\n",
    "        :param error_rate_threshold:\n",
    "        :param n_estimators:\n",
    "        :param learning_rate:\n",
    "        :param algorithm:\n",
    "        :param max_depth:\n",
    "\n",
    "        \"\"\"\n",
    "\n",
    "        # 训练中止条件 error_rate <self.error_rate_threshold ( 若当前得到的基分类器的组合 错误率 小于阈值, 则停止训练)\n",
    "        self.error_rate_threshold = error_rate_threshold\n",
    "\n",
    "        # 弱分类器的个数 即 最大迭代次数\n",
    "        self.n_estimators = n_estimators\n",
    "\n",
    "        self.learning_rate = learning_rate  # 学习率\n",
    "\n",
    "        self.algorithm = algorithm\n",
    "\n",
    "        self.max_depth=max_depth # 基分类器(决策树)的最大深度\n",
    "\n",
    "        self.G = []  # 弱分类器(决策树) 的集合\n",
    "\n",
    "\n",
    "    def fit(self, X, y):\n",
    "        \"\"\"\n",
    "        对训练数据进行学习\n",
    "\n",
    "        :param X:\n",
    "        :param y:\n",
    "        :return:\n",
    "        \"\"\"\n",
    "\n",
    "        N = np.shape(X)[0]\n",
    "\n",
    "        self.K = len({ele for ele in y})  # y 中有多少种不同的标签,  K分类\n",
    "\n",
    "        print('according to the training dataset : K={} classification task'.format(self.K))\n",
    "\n",
    "        # 初始化样本权重w\n",
    "        w = np.full(shape=N,fill_value=1/N )\n",
    "        # w = np.ones((N)) * (1 / N)\n",
    "\n",
    "        F = 0  # 强分类器\n",
    "\n",
    "        feature_value_set = CartTree.get_feature_value_set(X) # 可供选择的特征集合 , 包括 (特征, 切分值)\n",
    "\n",
    "        for m in range(self.n_estimators):  # 进行 第 m 轮迭代\n",
    "\n",
    "            print('round:{}'.format(m))\n",
    "\n",
    "            # 使用 自己 的 CartTree\n",
    "            CT = CartTree(max_depth=self.max_depth)  # 第 m 个弱分类器\n",
    "            CT.fit(X, y, feature_value_set=feature_value_set, sample_weight=w)\n",
    "\n",
    "            # 使用 sklearn 的 CartTree\n",
    "            # CT = DecisionTreeClassifier(max_depth=self.max_depth)\n",
    "            # CT.fit(X, y,sample_weight=w)\n",
    "\n",
    "            y_predict = CT.predict(X)\n",
    "\n",
    "            em = ((y_predict != y) * w).sum()  # 计算弱分类器误差\n",
    "\n",
    "            print('em:',em)\n",
    "\n",
    "            alpha = self.learning_rate * ( np.log((1 - em) / em) + np.log(self.K - 1) )  # 弱分类器权重\n",
    "\n",
    "            self.G.append( ( alpha, CT ) )  # 存储 基分类器\n",
    "\n",
    "            # 当前 所有弱分类器加权 得到的 最终分类器 的 分类错误率\n",
    "\n",
    "            y_predict_one_hot = (y_predict == np.array(range(self.K)).reshape(-1, 1)).T.astype(\n",
    "                np.int8)  # 将 预测向量 扩展为 one-hot\n",
    "\n",
    "            F += alpha * y_predict_one_hot  # 弱分类器组合成强分类器\n",
    "\n",
    "            G = np.e ** F / ((np.e ** F).sum(axis=1).reshape(-1, 1))  # softmax处理，将结果转化为概率\n",
    "\n",
    "            G_label = np.argmax(G, axis=1)  # 取 概率最大的 作为 预测的标签\n",
    "\n",
    "            err_arr = np.ones(N, dtype=int)\n",
    "            err_arr[G_label == y] = 0\n",
    "            err_rate = np.mean(err_arr)  # 计算训练误差\n",
    "\n",
    "            print('alpha:{}, err_rate:{}'.format(alpha, err_rate))\n",
    "\n",
    "            if err_rate < self.error_rate_threshold:  # 错误率 已经小于 阈值, 则停止训练\n",
    "                break\n",
    "\n",
    "            # 更新 w\n",
    "            w = w * np.exp( alpha * (y_predict != y) )\n",
    "            w /= np.sum(w)\n",
    "\n",
    "            print('w[0:10]:',w[0:10])\n",
    "\n",
    "    def predict(self, X):\n",
    "\n",
    "        \"\"\"\n",
    "        对新数据进行预测\n",
    "\n",
    "        :param X:\n",
    "        :return:\n",
    "        \"\"\"\n",
    "\n",
    "        F = 0  # 最终分类器\n",
    "\n",
    "        for alpha,CT in self.G:\n",
    "\n",
    "            y_predict = CT.predict(X)\n",
    "\n",
    "            y_predict_one_hot = (y_predict == np.array(range(self.K)).reshape(-1, 1)).T.astype(\n",
    "                np.int8)  # 将 预测向量 扩展为 one-hot\n",
    "\n",
    "            F += alpha * y_predict_one_hot  # 弱分类器组合成强分类器\n",
    "\n",
    "        G = np.e ** F / ((np.e ** F).sum(axis=1).reshape(-1, 1))  # softmax处理，将结果转化为概率\n",
    "\n",
    "        G_label = np.argmax(G, axis=1)  # 取 概率最大的 作为 预测的标签\n",
    "\n",
    "        return G_label\n",
    "\n",
    "    def score(self, X, y):\n",
    "        \"\"\"\n",
    "        对训练效果进行评价\n",
    "        :param X:\n",
    "        :param y:\n",
    "        :return:\n",
    "        \"\"\"\n",
    "        G_label = self.predict(X)\n",
    "\n",
    "        N = np.shape(X)[0]  # 样本的个数\n",
    "\n",
    "        err_arr = np.ones(N, dtype=int)\n",
    "        err_arr[G_label == y] = 0\n",
    "        err_rate = np.mean(err_arr)\n",
    "\n",
    "        accuracy = 1 - err_rate\n",
    "\n",
    "        return accuracy"
   ]
  },
  {
   "cell_type": "code",
   "execution_count": 8,
   "metadata": {},
   "outputs": [
    {
     "name": "stdout",
     "output_type": "stream",
     "text": [
      "according to the training dataset : K=3 classification task\n",
      "round:0\n",
      "T.feature:None,T.feature_value:None, T.gini:0.0 , T.sample_N:39 , T.value:dict_items([(0, 0.3250000000000002)]) \n",
      "T.prev_feature:2,T.prev_feature_value: <= 1.9 \n",
      "T.childs:None\n",
      "Tree depth:1\n",
      "T.label:0\n",
      "-----------\n",
      "T.feature:None,T.feature_value:None, T.gini:0.49931412894375815 , T.sample_N:81 , T.value:dict_items([(1, 0.35000000000000026), (2, 0.3250000000000002)]) \n",
      "T.prev_feature:2,T.prev_feature_value: > 1.9 \n",
      "T.childs:None\n",
      "Tree depth:1\n",
      "T.label:1\n",
      "-----------\n",
      "T.feature:2,T.feature_value:1.9, T.gini:0.6662499999999996 , T.sample_N:120 , T.value:dict_items([(1, 0.35000000000000026), (2, 0.3250000000000002), (0, 0.3250000000000002)]) \n",
      "T.prev_feature:None,T.prev_feature_value:None \n",
      "T.childs:{0: <CartTree_classification_xrh.Node object at 0x000001F958347E80>, 1: <CartTree_classification_xrh.Node object at 0x000001F95978F518>}\n",
      "Tree depth:0\n",
      "T.label:None\n",
      "-----------\n",
      "em: 0.32499999999999996\n",
      "alpha:1.1392277512821902, err_rate:0.325\n",
      "w[0:10]: [0.00492976 0.0154023  0.0154023  0.0154023  0.00492976 0.00492976\n",
      " 0.00492976 0.00492976 0.00492976 0.00492976]\n",
      "round:1\n",
      "T.feature:None,T.feature_value:None, T.gini:0.5368283901144056 , T.sample_N:77 , T.value:dict_items([(1, 0.1824009402531437), (0, 0.19226045053709742), (2, 0.0154023034230737)]) \n",
      "T.prev_feature:2,T.prev_feature_value: <= 4.7 \n",
      "T.childs:None\n",
      "Tree depth:1\n",
      "T.label:0\n",
      "-----------\n",
      "T.feature:None,T.feature_value:None, T.gini:0.0775578300895734 , T.sample_N:43 , T.value:dict_items([(2, 0.5852875300768005), (1, 0.024648775709884302)]) \n",
      "T.prev_feature:2,T.prev_feature_value: > 4.7 \n",
      "T.childs:None\n",
      "Tree depth:1\n",
      "T.label:2\n",
      "-----------\n",
      "T.feature:2,T.feature_value:4.7, T.gini:0.5593380582087947 , T.sample_N:120 , T.value:dict_items([(1, 0.20704971596302799), (2, 0.6006898334998741), (0, 0.19226045053709742)]) \n",
      "T.prev_feature:None,T.prev_feature_value:None \n",
      "T.childs:{0: <CartTree_classification_xrh.Node object at 0x000001F9580C0A20>, 1: <CartTree_classification_xrh.Node object at 0x000001F9580C0A90>}\n",
      "Tree depth:0\n",
      "T.label:None\n",
      "-----------\n",
      "em: 0.22245201938610182\n",
      "alpha:1.555664879173082, err_rate:0.35833333333333334\n",
      "w[0:10]: [0.01275312 0.00840931 0.00840931 0.00840931 0.01275312 0.01275312\n",
      " 0.01275312 0.01275312 0.00269153 0.01275312]\n",
      "round:2\n",
      "T.feature:None,T.feature_value:None, T.gini:0.33689305543497183 , T.sample_N:82 , T.value:dict_items([(1, 0.5101249536225593), (0, 0.10496983421124884), (2, 0.025227922314882436)]) \n",
      "T.prev_feature:3,T.prev_feature_value: <= 1.6 \n",
      "T.childs:None\n",
      "Tree depth:1\n",
      "T.label:1\n",
      "-----------\n",
      "T.feature:None,T.feature_value:None, T.gini:0.13177084988619536 , T.sample_N:38 , T.value:dict_items([(2, 0.334171042170182), (1, 0.025506247681127955)]) \n",
      "T.prev_feature:3,T.prev_feature_value: > 1.6 \n",
      "T.childs:None\n",
      "Tree depth:1\n",
      "T.label:2\n",
      "-----------\n",
      "T.feature:3,T.feature_value:1.6, T.gini:0.5729129344226956 , T.sample_N:120 , T.value:dict_items([(1, 0.5356312013036871), (2, 0.3593989644850645), (0, 0.10496983421124884)]) \n",
      "T.prev_feature:None,T.prev_feature_value:None \n",
      "T.childs:{0: <CartTree_classification_xrh.Node object at 0x000001F9580C08D0>, 1: <CartTree_classification_xrh.Node object at 0x000001F9580C0C88>}\n",
      "Tree depth:0\n",
      "T.label:None\n",
      "-----------\n",
      "em: 0.15570400420725933\n",
      "alpha:1.9069548189018974, err_rate:0.041666666666666664\n",
      "0.9666666666666667\n"
     ]
    }
   ],
   "source": [
    "from sklearn import datasets\n",
    "from sklearn.model_selection import train_test_split\n",
    "\n",
    "# 使用iris数据集，其中有三个分类， y的取值为0,1，2\n",
    "X, y = datasets.load_iris(True)  # 包括150行记录\n",
    "# 将数据集一分为二，训练数据占80%，测试数据占20%\n",
    "X_train, X_test, y_train, y_test = train_test_split(X, y, test_size=0.2, random_state=1024)\n",
    "\n",
    "\n",
    "clf = AdaBoost_SAMME(n_estimators=3, learning_rate=0.8, max_depth=1)\n",
    "clf.fit(X_train, y_train)\n",
    "\n",
    "print(clf.score(X_test,y_test))"
   ]
  },
  {
   "cell_type": "code",
   "execution_count": 5,
   "metadata": {},
   "outputs": [
    {
     "data": {
      "text/plain": [
       "(506, 13)"
      ]
     },
     "execution_count": 5,
     "metadata": {},
     "output_type": "execute_result"
    }
   ],
   "source": [
    "np.shape(X)"
   ]
  }
 ],
 "metadata": {
  "kernelspec": {
   "display_name": "Python 3",
   "language": "python",
   "name": "python3"
  },
  "language_info": {
   "codemirror_mode": {
    "name": "ipython",
    "version": 3
   },
   "file_extension": ".py",
   "mimetype": "text/x-python",
   "name": "python",
   "nbconvert_exporter": "python",
   "pygments_lexer": "ipython3",
   "version": "3.7.3"
  },
  "toc": {
   "base_numbering": 1,
   "nav_menu": {},
   "number_sections": true,
   "sideBar": true,
   "skip_h1_title": false,
   "title_cell": "Table of Contents",
   "title_sidebar": "Contents",
   "toc_cell": false,
   "toc_position": {
    "height": "calc(100% - 180px)",
    "left": "10px",
    "top": "150px",
    "width": "165px"
   },
   "toc_section_display": true,
   "toc_window_display": true
  }
 },
 "nbformat": 4,
 "nbformat_minor": 1
}
