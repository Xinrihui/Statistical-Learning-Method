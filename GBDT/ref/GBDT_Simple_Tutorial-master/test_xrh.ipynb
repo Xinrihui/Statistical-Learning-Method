{
 "cells": [
  {
   "cell_type": "code",
   "execution_count": 1,
   "metadata": {},
   "outputs": [],
   "source": [
    "import os\n",
    "import shutil\n",
    "import logging\n",
    "import argparse\n",
    "import pandas as pd\n",
    "from GBDT_ref.gbdt import GradientBoostingRegressor\n",
    "from GBDT_ref.gbdt import GradientBoostingBinaryClassifier\n",
    "from GBDT_ref.gbdt import GradientBoostingMultiClassifier\n",
    "\n",
    "import numpy as np\n",
    "\n",
    "import sklearn.metrics as metrics\n",
    "\n",
    "import time\n",
    "\n",
    "\n",
    "\n",
    "\n",
    "def loadData_2classification( fileName, n=1000):\n",
    "    '''\n",
    "    加载文件\n",
    "\n",
    "    将 数据集 的标签 转换为 二分类的标签\n",
    "\n",
    "    :param fileName:要加载的文件路径\n",
    "    :param n: 返回的数据集的规模\n",
    "    :return: 数据集和标签集\n",
    "    '''\n",
    "    # 存放数据及标记\n",
    "    dataArr = []\n",
    "    labelArr = []\n",
    "    # 读取文件\n",
    "    fr = open(fileName)\n",
    "\n",
    "    cnt = 0  # 计数器\n",
    "\n",
    "    # 遍历文件中的每一行\n",
    "    for line in fr.readlines():\n",
    "\n",
    "        if cnt == n:\n",
    "            break\n",
    "\n",
    "        # 获取当前行，并按“，”切割成字段放入列表中\n",
    "        # strip：去掉每行字符串首尾指定的字符（默认空格或换行符）\n",
    "        # split：按照指定的字符将字符串切割成每个字段，返回列表形式\n",
    "        curLine = line.strip().split(',')\n",
    "        # 将每行中除标记外的数据放入数据集中（curLine[0]为标记信息）\n",
    "        # 在放入的同时将原先字符串形式的数据转换为整型\n",
    "        # 此外将数据进行了二值化处理，大于128的转换成1，小于的转换成0，方便后续计算\n",
    "        dataArr.append([int(int(num) > 128) for num in curLine[1:]])\n",
    "\n",
    "        # 将标记信息放入标记集中\n",
    "        # 转换成二分类任务\n",
    "        # 标签0设置为1，反之为-1\n",
    "\n",
    "        # 显然这会导致 正负 样本的 分布不均衡, 1 的样本很少, 而-1 的很多\n",
    "        if int(curLine[0]) == 0:\n",
    "            labelArr.append(1)\n",
    "        else:\n",
    "            labelArr.append(0)\n",
    "\n",
    "        # if int(curLine[0]) <= 5:\n",
    "        #     labelArr.append(1)\n",
    "        # else:\n",
    "        #     labelArr.append(-1)\n",
    "\n",
    "        cnt += 1\n",
    "\n",
    "    fr.close()\n",
    "\n",
    "    # 返回数据集和标记\n",
    "    return dataArr, labelArr\n",
    "\n",
    "  \n"
   ]
  },
  {
   "cell_type": "code",
   "execution_count": 3,
   "metadata": {},
   "outputs": [
    {
     "name": "stdout",
     "output_type": "stream",
     "text": [
      "train data, row num:6000 , column num:784 \n"
     ]
    }
   ],
   "source": [
    "n_train=6000\n",
    "\n",
    "\n",
    "\n",
    "# 获取训练集\n",
    "trainDataList, trainLabelList = loadData_2classification('../../../Mnist/mnist_train.csv', n=n_train)\n",
    "\n",
    "print('train data, row num:{} , column num:{} '.format(len(trainDataList), len(trainDataList[0])))\n",
    "\n",
    "trainDataArr = np.array ( trainDataList )\n",
    "trainLabelArr = np.array ( trainLabelList )\n",
    "\n",
    "data= np.concatenate( (trainDataArr,trainLabelArr.reshape(-1,1)) , axis=1 )\n",
    "\n",
    "data= pd.DataFrame( data=data,\n",
    "                    columns= list(range(data.shape[1]-1))+['label']\n",
    "                   )\n"
   ]
  },
  {
   "cell_type": "code",
   "execution_count": 7,
   "metadata": {},
   "outputs": [
    {
     "name": "stdout",
     "output_type": "stream",
     "text": [
      "start training model....\n",
      "training cost time : 663.4496278762817\n"
     ]
    }
   ],
   "source": [
    "\n",
    "\n",
    "# 开始时间\n",
    "print('start training model....')\n",
    "start = time.time()\n",
    "\n",
    "model = GradientBoostingBinaryClassifier( learning_rate=0.1, n_trees=30, max_depth=3,is_log=False, is_plot=False)\n",
    "\n",
    "model.fit(data)\n",
    "\n",
    "\n",
    "# 结束时间\n",
    "end = time.time()\n",
    "print('training cost time :', end - start)\n",
    "\n",
    "\n"
   ]
  },
  {
   "cell_type": "code",
   "execution_count": 8,
   "metadata": {},
   "outputs": [
    {
     "name": "stdout",
     "output_type": "stream",
     "text": [
      "test data, row num:1000 , column num:784 \n",
      "test dataset accuracy: 1.0 \n"
     ]
    }
   ],
   "source": [
    "n_test=1000\n",
    "\n",
    "# 获取测试集\n",
    "testDataList, testLabelList = loadData_2classification('../../../Mnist/mnist_test.csv', n=n_test)\n",
    "\n",
    "print('test data, row num:{} , column num:{} '.format(len(testDataList), len(testDataList[0])))\n",
    "\n",
    "testDataArr = np.array(testDataList)\n",
    "testLabelArr = np.array(testLabelList)\n",
    "\n",
    "test_data= np.concatenate( (testDataArr,testLabelArr.reshape(-1,1)) , axis=1 )\n",
    "\n",
    "test_data= pd.DataFrame( data=test_data,\n",
    "                    columns= list(range(test_data.shape[1]-1))+['label']\n",
    "                   )\n",
    "\n",
    "model.predict(test_data)\n",
    "\n",
    "y_predict = test_data['predict_label']\n",
    "\n",
    "\n",
    "print('test dataset accuracy: {} '.format(metrics.accuracy_score(testLabelArr,y_predict)))"
   ]
  }
 ],
 "metadata": {
  "kernelspec": {
   "display_name": "Python 3",
   "language": "python",
   "name": "python3"
  },
  "language_info": {
   "codemirror_mode": {
    "name": "ipython",
    "version": 3
   },
   "file_extension": ".py",
   "mimetype": "text/x-python",
   "name": "python",
   "nbconvert_exporter": "python",
   "pygments_lexer": "ipython3",
   "version": "3.7.3"
  },
  "toc": {
   "base_numbering": 1,
   "nav_menu": {},
   "number_sections": true,
   "sideBar": true,
   "skip_h1_title": false,
   "title_cell": "Table of Contents",
   "title_sidebar": "Contents",
   "toc_cell": false,
   "toc_position": {},
   "toc_section_display": true,
   "toc_window_display": false
  }
 },
 "nbformat": 4,
 "nbformat_minor": 2
}
