{
 "cells": [
  {
   "cell_type": "markdown",
   "metadata": {},
   "source": [
    "## GBDT"
   ]
  },
  {
   "cell_type": "markdown",
   "metadata": {},
   "source": [
    "### GBDT 回归"
   ]
  },
  {
   "cell_type": "code",
   "execution_count": 2,
   "metadata": {},
   "outputs": [
    {
     "data": {
      "text/plain": [
       "1.475"
      ]
     },
     "execution_count": 2,
     "metadata": {},
     "output_type": "execute_result"
    }
   ],
   "source": [
    "import numpy as np\n",
    "\n",
    "\n",
    "# 获取 训练数据\n",
    "\n",
    "dataset = np.array(\n",
    "               [[1, 5, 20, 1.1],\n",
    "                [2, 7, 30, 1.3],\n",
    "                [3, 21, 70, 1.7],\n",
    "                [4, 30, 60, 1.8],\n",
    "               ])\n",
    "columns=['id', 'age', 'weight', 'label']\n",
    "\n",
    "\n",
    "X = dataset[:,0:3]\n",
    "y = dataset[:,3]\n",
    "\n",
    "np.mean(y)\n"
   ]
  },
  {
   "cell_type": "code",
   "execution_count": 4,
   "metadata": {},
   "outputs": [],
   "source": [
    "import numpy as np "
   ]
  },
  {
   "cell_type": "code",
   "execution_count": 2,
   "metadata": {},
   "outputs": [
    {
     "data": {
      "text/plain": [
       "GradientBoostingRegressor(alpha=0.9, criterion='friedman_mse', init=None,\n",
       "                          learning_rate=0.01, loss='ls', max_depth=4,\n",
       "                          max_features=None, max_leaf_nodes=None,\n",
       "                          min_impurity_decrease=0.0, min_impurity_split=None,\n",
       "                          min_samples_leaf=1, min_samples_split=2,\n",
       "                          min_weight_fraction_leaf=0.0, n_estimators=500,\n",
       "                          n_iter_no_change=None, presort='auto',\n",
       "                          random_state=None, subsample=1.0, tol=0.0001,\n",
       "                          validation_fraction=0.1, verbose=0, warm_start=False)"
      ]
     },
     "execution_count": 2,
     "metadata": {},
     "output_type": "execute_result"
    },
    {
     "name": "stdout",
     "output_type": "stream",
     "text": [
      "[2.10468489e-02 2.19685381e-04 3.18321729e-03 4.38178482e-06\n",
      " 2.67054679e-02 4.31523248e-01 7.36599365e-03 7.77718381e-02\n",
      " 1.61097210e-03 1.44386410e-02 3.05379296e-02 1.13717273e-02\n",
      " 3.74220049e-01]\n",
      "8.36033078629097\n"
     ]
    }
   ],
   "source": [
    "\n",
    "from sklearn.datasets import load_boston\n",
    "from sklearn.model_selection import train_test_split\n",
    "from sklearn.metrics import mean_squared_error\n",
    "from sklearn import ensemble\n",
    " \n",
    " \n",
    "# 加载sklearn自带的波士顿房价数据集\n",
    "dataset = load_boston()\n",
    " \n",
    "# 提取特征数据和目标数据\n",
    "X = dataset.data\n",
    "y = dataset.target\n",
    " \n",
    "# 将数据集以9:1的比例随机分为训练集和测试集，为了重现随机分配设置随机种子，即random_state参数\n",
    "X_train, X_test, y_train, y_test = train_test_split(X, y, train_size=0.9, test_size=0.1, random_state=188)\n",
    " \n",
    "# 实例化估计器对象\n",
    "params = {'n_estimators': 500, 'max_depth': 4, 'min_samples_split': 2,\n",
    "          'learning_rate': 0.01, 'loss': 'ls'}\n",
    "gbr = ensemble.GradientBoostingRegressor(**params)\n",
    " \n",
    "# 估计器拟合训练数据\n",
    "gbr.fit(X_train, y_train)\n",
    " \n",
    "# 训练完的估计器对测试数据进行预测\n",
    "y_pred = gbr.predict(X_test)\n",
    " \n",
    "# 输出特征重要性列表\n",
    "print(gbr.feature_importances_)\n",
    "print(mean_squared_error(y_test, y_pred))"
   ]
  },
  {
   "cell_type": "code",
   "execution_count": 5,
   "metadata": {},
   "outputs": [
    {
     "data": {
      "text/plain": [
       "(506, 13)"
      ]
     },
     "execution_count": 5,
     "metadata": {},
     "output_type": "execute_result"
    }
   ],
   "source": [
    "np.shape(X)"
   ]
  },
  {
   "cell_type": "code",
   "execution_count": 10,
   "metadata": {},
   "outputs": [
    {
     "data": {
      "text/plain": [
       "0.0"
      ]
     },
     "execution_count": 10,
     "metadata": {},
     "output_type": "execute_result"
    }
   ],
   "source": [
    "def sigmoid(  X):\n",
    "    \"\"\"\n",
    "    sigmoid 激活函数\n",
    "    :param X:\n",
    "    :return:\n",
    "    \"\"\"\n",
    "    return 1 / (1 + np.exp(-X))\n",
    "\n",
    "sigmoid(float('-inf'))"
   ]
  },
  {
   "cell_type": "markdown",
   "metadata": {},
   "source": [
    "### GBDT 二分类"
   ]
  },
  {
   "cell_type": "code",
   "execution_count": 1,
   "metadata": {},
   "outputs": [],
   "source": [
    "import numpy as np\n",
    "\n",
    "import time\n",
    "\n",
    "from sklearn.ensemble import GradientBoostingClassifier\n",
    "\n",
    "from sklearn import datasets\n",
    "\n",
    "from sklearn.datasets import load_boston\n",
    "from sklearn.model_selection import train_test_split\n",
    "from sklearn.metrics import mean_squared_error\n",
    "from sklearn import ensemble\n",
    "\n",
    "\n",
    "import sys\n",
    "\n",
    "sys.path.append('E:\\\\python package\\\\python-project\\\\统计学习方法\\\\Statistical-Learning-Method_Code-master\\\\DecisionTree')\n",
    "\n",
    "from CartTree_regression_xrh import *\n",
    "\n"
   ]
  },
  {
   "cell_type": "code",
   "execution_count": 16,
   "metadata": {},
   "outputs": [],
   "source": [
    "class GDBT_2Classifier:\n",
    "    \"\"\"\n",
    "\n",
    "    适用于 二分类 问题 的 梯度提升树\n",
    "\n",
    "    基分类器为 CART 回归树\n",
    "\n",
    "    Author: xrh\n",
    "    Date: 2021-04-10\n",
    "\n",
    "    ref: https://zhuanlan.zhihu.com/p/89549390\n",
    "\n",
    "\n",
    "    test1: 二分类任务\n",
    "\n",
    "    数据集：Mnist\n",
    "    参数: error_rate_threshold=0.01, max_iter=30, max_depth=3,learning_rate=0.2\n",
    "\n",
    "    训练集数量：60000\n",
    "    测试集数量：10000\n",
    "    正确率： 0.9891\n",
    "    模型训练时长：205.7052161693573\n",
    "\n",
    "    \"\"\"\n",
    "\n",
    "    def __init__(self, error_rate_threshold=0.05, max_iter=10, max_depth=1):\n",
    "        \"\"\"\n",
    "\n",
    "        :param error_rate_threshold: 训练中止条件, 若当前得到的基分类器的组合 的错误率 小于阈值, 则停止训练\n",
    "        :param max_iter: 最大迭代次数\n",
    "        :param max_depth: CART 回归树 的最大深度\n",
    "        \"\"\"\n",
    "\n",
    "        # 训练中止条件 error_rate  < self.error_rate_threshold ( 若当前得到的基分类器的组合 的错误率 小于阈值, 则停止训练)\n",
    "        self.error_rate_threshold = error_rate_threshold\n",
    "\n",
    "        # 最大迭代次数\n",
    "        self.max_iter = max_iter\n",
    "\n",
    "        # CART 回归树 的最大深度\n",
    "        self.max_depth = max_depth\n",
    "\n",
    "        self.G = []  # 弱分类器 集合\n",
    "\n",
    "    def sigmoid( self , X ):\n",
    "        \"\"\"\n",
    "        sigmoid 激活函数\n",
    "        :param X:\n",
    "        :return:\n",
    "        \"\"\"\n",
    "        return 1 / (1 + np.exp(-X))\n",
    "\n",
    "    def fit(self, X, y, learning_rate):\n",
    "        \"\"\"\n",
    "\n",
    "        用 训练数据 拟合模型\n",
    "\n",
    "        :param X: 特征数据 , shape=(N_sample, N_feature)\n",
    "        :param y: 标签数据 , shape=(N_sample,)\n",
    "        :param learning_rate: 学习率\n",
    "        :return:\n",
    "        \"\"\"\n",
    "\n",
    "\n",
    "        N = np.shape(X)[0]  # 样本的个数\n",
    "\n",
    "        f = 0  # 基分类器 的加权和\n",
    "\n",
    "        P_1 = len(y[y == 1]) / len(y)\n",
    "        y_predict = np.log(P_1 / (1 - P_1))\n",
    "\n",
    "        self.G.append(y_predict)\n",
    "\n",
    "        f += y_predict\n",
    "\n",
    "        feature_value_set = RegresionTree.get_feature_value_set(X)  # 可供选择的特征集合 , 包括 (特征, 切分值)\n",
    "\n",
    "        for m in range(self.max_iter):  # 进行 第 m 轮迭代\n",
    "\n",
    "            r = y - self.sigmoid(f)  # 残差\n",
    "\n",
    "            RT = RegresionTree_GBDT(min_square_loss=0.1, max_depth=self.max_depth,print_log=False)\n",
    "\n",
    "            RT.fit(X, r, y, feature_value_set=feature_value_set)\n",
    "\n",
    "            y_predict = RT.predict(X)\n",
    "\n",
    "            self.G.append((learning_rate, RT))  # 存储 基分类器\n",
    "\n",
    "            # 计算 当前 所有弱分类器加权 得到的 最终分类器 的 分类错误率\n",
    "\n",
    "            f += learning_rate * y_predict\n",
    "\n",
    "            G = self.sigmoid(f)\n",
    "\n",
    "            #TODO: 负例 设置为 -1 会导致 在训练集的 训练误差率无法下降, 原因未知\n",
    "\n",
    "            G[G >= 0.5] = 1  # 概率 大于 0.5 被标记为 正例\n",
    "            G[G < 0.5] = 0  # 概率 小于 0.5 被标记为 负例\n",
    "\n",
    "            err_arr = np.ones(N, dtype=int)\n",
    "            err_arr[G == y] = 0\n",
    "            err_rate = np.mean(err_arr)\n",
    "\n",
    "            print('round:{}, err_rate:{}'.format(m, err_rate))\n",
    "            print('======================')\n",
    "\n",
    "            if err_rate < self.error_rate_threshold:  # 错误率 已经小于 阈值, 则停止训练\n",
    "                break\n",
    "\n",
    "    def predict(self, X):\n",
    "        \"\"\"\n",
    "        对 测试 数据进行预测, 返回预测的标签\n",
    "\n",
    "        :param X: 特征数据 , shape=(N_sample, N_feature)\n",
    "        :return:\n",
    "        \"\"\"\n",
    "\n",
    "        f = 0  # 最终分类器\n",
    "\n",
    "        f += self.G[0]  # 第一个 存储的是 初始化情况\n",
    "\n",
    "        for alpha, RT in self.G[1:]:\n",
    "            y_predict = RT.predict(X)\n",
    "            f += alpha * y_predict\n",
    "\n",
    "        # print('f:',f)\n",
    "\n",
    "        G = self.sigmoid(f)\n",
    "\n",
    "        # print('G:',G)\n",
    "\n",
    "        G[G >= 0.5] = 1  # 概率 大于 0.5 被标记为 正例\n",
    "        G[G < 0.5] = 0  # 概率 小于 0.5 被标记为 负例\n",
    "\n",
    "        return G\n",
    "\n",
    "    def predict_proba(self, X):\n",
    "        \"\"\"\n",
    "        对 测试 数据进行预测, 返回预测的 概率值\n",
    "\n",
    "        :param X: 特征数据 , shape=(N_sample, N_feature)\n",
    "        :return:\n",
    "        \"\"\"\n",
    "\n",
    "        f = 0  # 最终分类器\n",
    "\n",
    "        f += self.G[0]  # 第一个 存储的是 初始化情况\n",
    "\n",
    "        for alpha, RT in self.G[1:]:\n",
    "            y_predict = RT.predict(X)\n",
    "            f += alpha * y_predict\n",
    "\n",
    "        # print('f:',f)\n",
    "        G = self.sigmoid(f)\n",
    "\n",
    "        return G\n",
    "\n",
    "\n",
    "    def score(self, X, y):\n",
    "        \"\"\"\n",
    "        使用 测试数据集 对模型进行评价, 返回正确率\n",
    "\n",
    "        :param X: 特征数据 , shape=(N_sample, N_feature)\n",
    "        :param y: 标签数据 , shape=(N_sample,)\n",
    "        :return:  正确率 accuracy\n",
    "        \"\"\"\n",
    "\n",
    "        N = np.shape(X)[0]  # 样本的个数\n",
    "\n",
    "        G = self.predict(X)\n",
    "\n",
    "        err_arr = np.ones(N, dtype=int)\n",
    "        err_arr[G == y] = 0\n",
    "        err_rate = np.mean(err_arr)\n",
    "\n",
    "        accuracy = 1 - err_rate\n",
    "\n",
    "        return accuracy"
   ]
  },
  {
   "cell_type": "code",
   "execution_count": 17,
   "metadata": {},
   "outputs": [],
   "source": [
    "\n",
    "def loadData_2classification( fileName, n=1000):\n",
    "    '''\n",
    "    加载文件\n",
    "\n",
    "    将 数据集 的标签 转换为 二分类的标签\n",
    "\n",
    "    :param fileName:要加载的文件路径\n",
    "    :param n: 返回的数据集的规模\n",
    "    :return: 数据集和标签集\n",
    "    '''\n",
    "    # 存放数据及标记\n",
    "    dataArr = []\n",
    "    labelArr = []\n",
    "    # 读取文件\n",
    "    fr = open(fileName)\n",
    "\n",
    "    cnt = 0  # 计数器\n",
    "\n",
    "    # 遍历文件中的每一行\n",
    "    for line in fr.readlines():\n",
    "\n",
    "        if cnt == n:\n",
    "            break\n",
    "\n",
    "        # 获取当前行，并按“，”切割成字段放入列表中\n",
    "        # strip：去掉每行字符串首尾指定的字符（默认空格或换行符）\n",
    "        # split：按照指定的字符将字符串切割成每个字段，返回列表形式\n",
    "        curLine = line.strip().split(',')\n",
    "        # 将每行中除标记外的数据放入数据集中（curLine[0]为标记信息）\n",
    "        # 在放入的同时将原先字符串形式的数据转换为整型\n",
    "        # 此外将数据进行了二值化处理，大于128的转换成1，小于的转换成0，方便后续计算\n",
    "        dataArr.append([int(int(num) > 128) for num in curLine[1:]])\n",
    "\n",
    "        # 将标记信息放入标记集中\n",
    "        # 转换成二分类任务\n",
    "        # 标签0设置为1，反之为0\n",
    "\n",
    "        # 显然这会导致 正负 样本的 分布不均衡, 1 的样本很少(10%), 而0 的很多\n",
    "        if int(curLine[0]) == 0:\n",
    "            labelArr.append(1)\n",
    "        else:\n",
    "            labelArr.append(0)\n",
    "\n",
    "        # if int(curLine[0]) <= 5:\n",
    "        #     labelArr.append(1)\n",
    "        # else:\n",
    "        #     labelArr.append(0)\n",
    "\n",
    "        cnt += 1\n",
    "\n",
    "    fr.close()\n",
    "\n",
    "    # 返回数据集和标记\n",
    "    return dataArr, labelArr\n",
    "    \n",
    "    "
   ]
  },
  {
   "cell_type": "code",
   "execution_count": 4,
   "metadata": {},
   "outputs": [
    {
     "name": "stdout",
     "output_type": "stream",
     "text": [
      "train data, row num:6000 , column num:784 \n"
     ]
    }
   ],
   "source": [
    "n_train=6000\n",
    "\n",
    "# 获取训练集\n",
    "trainDataList, trainLabelList =loadData_2classification('../Mnist/mnist_train.csv', n=n_train)\n",
    "\n",
    "print('train data, row num:{} , column num:{} '.format(len(trainDataList), len(trainDataList[0])))\n",
    "\n",
    "trainDataArr = np.array(trainDataList)\n",
    "trainLabelArr = np.array(trainLabelList)\n"
   ]
  },
  {
   "cell_type": "code",
   "execution_count": 18,
   "metadata": {},
   "outputs": [
    {
     "name": "stdout",
     "output_type": "stream",
     "text": [
      "start training model....\n"
     ]
    },
    {
     "name": "stderr",
     "output_type": "stream",
     "text": [
      "E:\\anaconda\\lib\\site-packages\\numpy\\core\\fromnumeric.py:3118: RuntimeWarning: Mean of empty slice.\n",
      "  out=out, **kwargs)\n",
      "E:\\anaconda\\lib\\site-packages\\numpy\\core\\_methods.py:85: RuntimeWarning: invalid value encountered in double_scalars\n",
      "  ret = ret.dtype.type(ret / rcount)\n"
     ]
    },
    {
     "name": "stdout",
     "output_type": "stream",
     "text": [
      "round:0, err_rate:0.09866666666666667\n",
      "======================\n",
      "round:1, err_rate:0.053\n",
      "======================\n",
      "round:2, err_rate:0.05\n",
      "======================\n",
      "round:3, err_rate:0.04783333333333333\n",
      "======================\n",
      "round:4, err_rate:0.037\n",
      "======================\n",
      "round:5, err_rate:0.0345\n",
      "======================\n",
      "round:6, err_rate:0.028166666666666666\n",
      "======================\n",
      "round:7, err_rate:0.025166666666666667\n",
      "======================\n",
      "round:8, err_rate:0.0235\n",
      "======================\n",
      "round:9, err_rate:0.0205\n",
      "======================\n",
      "round:10, err_rate:0.018166666666666668\n",
      "======================\n",
      "round:11, err_rate:0.017\n",
      "======================\n",
      "round:12, err_rate:0.01633333333333333\n",
      "======================\n",
      "round:13, err_rate:0.013833333333333333\n",
      "======================\n",
      "round:14, err_rate:0.013\n",
      "======================\n",
      "round:15, err_rate:0.011833333333333333\n",
      "======================\n",
      "round:16, err_rate:0.011166666666666667\n",
      "======================\n",
      "round:17, err_rate:0.011\n",
      "======================\n",
      "round:18, err_rate:0.009666666666666667\n",
      "======================\n",
      "training cost time : 19.053876638412476\n"
     ]
    }
   ],
   "source": [
    "\n",
    "# 开始时间\n",
    "print('start training model....')\n",
    "start = time.time()\n",
    "\n",
    "\n",
    "\n",
    "clf = GDBT_2Classifier( error_rate_threshold=0.01, max_iter=30, max_depth=3 )\n",
    "clf.fit(trainDataArr, trainLabelArr,learning_rate=0.2)\n",
    "\n",
    "\n",
    "# 结束时间\n",
    "end = time.time()\n",
    "print('training cost time :', end - start)\n",
    "\n",
    "\n"
   ]
  },
  {
   "cell_type": "code",
   "execution_count": 40,
   "metadata": {},
   "outputs": [
    {
     "data": {
      "text/plain": [
       "GradientBoostingClassifier(criterion='friedman_mse', init=None,\n",
       "                           learning_rate=0.1, loss='deviance', max_depth=3,\n",
       "                           max_features=None, max_leaf_nodes=None,\n",
       "                           min_impurity_decrease=0.0, min_impurity_split=None,\n",
       "                           min_samples_leaf=1, min_samples_split=2,\n",
       "                           min_weight_fraction_leaf=0.0, n_estimators=30,\n",
       "                           n_iter_no_change=None, presort='auto',\n",
       "                           random_state=None, subsample=1.0, tol=0.0001,\n",
       "                           validation_fraction=0.1, verbose=0,\n",
       "                           warm_start=False)"
      ]
     },
     "execution_count": 40,
     "metadata": {},
     "output_type": "execute_result"
    }
   ],
   "source": [
    "\n",
    "clf2 = GradientBoostingClassifier(loss='deviance', learning_rate=0.1, n_estimators=30\n",
    "                                  , max_depth=3\n",
    "                                )\n",
    "clf2.fit(trainDataArr, trainLabelArr)\n",
    "\n"
   ]
  },
  {
   "cell_type": "code",
   "execution_count": 19,
   "metadata": {},
   "outputs": [
    {
     "name": "stdout",
     "output_type": "stream",
     "text": [
      "test data, row num:1000 , column num:784 \n",
      "test dataset accuracy: 0.974 \n"
     ]
    }
   ],
   "source": [
    "n_test=1000\n",
    "\n",
    "# 获取测试集\n",
    "testDataList, testLabelList = loadData_2classification('../Mnist/mnist_test.csv', n=n_test)\n",
    "\n",
    "print('test data, row num:{} , column num:{} '.format(len(testDataList), len(testDataList[0])))\n",
    "\n",
    "testDataArr = np.array(testDataList)\n",
    "testLabelArr = np.array(testLabelList)\n",
    "\n",
    "print('test dataset accuracy: {} '.format(clf.score(testDataArr, testLabelArr)))"
   ]
  },
  {
   "cell_type": "markdown",
   "metadata": {},
   "source": [
    "#### 模型评估 "
   ]
  },
  {
   "cell_type": "code",
   "execution_count": 20,
   "metadata": {},
   "outputs": [
    {
     "name": "stdout",
     "output_type": "stream",
     "text": [
      "test dataset accuracy: 0.974 \n",
      "====================\n",
      "pos-1 precision:  0.8641975308641975\n",
      "neg-0 precision:0.9836779107725789, pos-1 precision:0.8641975308641975  \n",
      "====================\n",
      "pos-1 recall:  0.8235294117647058\n",
      "neg-0 recall:0.9879781420765027, pos-1 recall:0.8235294117647058  \n",
      "====================\n",
      "pos-1 f1_score:  0.8433734939759034\n",
      "neg-0 f1_score:0.9858233369683752, pos-1 f1_score:0.8433734939759034  \n",
      "====================\n"
     ]
    }
   ],
   "source": [
    "from sklearn.metrics import accuracy_score\n",
    "\n",
    "from sklearn.metrics import precision_score\n",
    "\n",
    "from sklearn.metrics import recall_score\n",
    "\n",
    "from sklearn.metrics import f1_score\n",
    "\n",
    "\n",
    "y_pred= clf.predict(testDataArr)\n",
    "y_true=testLabelArr\n",
    "\n",
    "\n",
    "# 1.正确率\n",
    "print('test dataset accuracy: {} '.format(accuracy_score(y_true, y_pred)))\n",
    "\n",
    "print('====================')\n",
    "\n",
    "# 2.精确率  \n",
    "\n",
    "# print(precision_score(y_true, y_pred, average='macro'))  # \n",
    "# print(precision_score(y_true, y_pred, average='micro'))  # \n",
    "# print(precision_score(y_true, y_pred, average='weighted'))  # \n",
    "\n",
    "print('pos-1 precision: ',precision_score(y_true, y_pred, average='binary')) \n",
    "\n",
    "precision_list= precision_score(y_true, y_pred, average=None)\n",
    "\n",
    "print('neg-0 precision:{}, pos-1 precision:{}  '.format(precision_list[0],precision_list[1]) ) \n",
    "\n",
    "print('====================')\n",
    "\n",
    "# 3. 召回率\n",
    "\n",
    "# print(recall_score(y_true, y_pred, average='macro'))  # \n",
    "# print(recall_score(y_true, y_pred, average='micro'))  # \n",
    "# print(recall_score(y_true, y_pred, average='weighted'))  # \n",
    "\n",
    "print('pos-1 recall: ',recall_score(y_true, y_pred, average='binary')) \n",
    "\n",
    "recall_list= recall_score(y_true, y_pred, average=None)\n",
    "\n",
    "print('neg-0 recall:{}, pos-1 recall:{}  '.format(recall_list[0],recall_list[1]) )\n",
    "\n",
    "print('====================')\n",
    "\n",
    "# 4. F1-score\n",
    "\n",
    "# print(f1_score(y_true, y_pred, average='macro'))  \n",
    "# print(f1_score(y_true, y_pred, average='micro')) \n",
    "# print(f1_score(y_true, y_pred, average='weighted'))  \n",
    "\n",
    "print('pos-1 f1_score: ',f1_score(y_true, y_pred, average='binary')) \n",
    "\n",
    "f1_score_list= f1_score(y_true, y_pred, average=None)\n",
    "\n",
    "print('neg-0 f1_score:{}, pos-1 f1_score:{}  '.format(f1_score_list[0],f1_score_list[1]) )\n",
    "\n",
    "print('====================')\n",
    "\n"
   ]
  },
  {
   "cell_type": "code",
   "execution_count": 48,
   "metadata": {},
   "outputs": [],
   "source": [
    "y_scores2= clf2.predict_proba(testDataArr)[:,0]\n",
    "# y_scores2\n",
    "\n",
    "precision2, recall2, thresholds2 = precision_recall_curve(y_true, y_scores2)"
   ]
  },
  {
   "cell_type": "markdown",
   "metadata": {},
   "source": [
    "##### P-R 曲线"
   ]
  },
  {
   "cell_type": "code",
   "execution_count": 68,
   "metadata": {},
   "outputs": [
    {
     "data": {
      "text/plain": [
       "[<matplotlib.lines.Line2D at 0x1bb8d467e10>]"
      ]
     },
     "execution_count": 68,
     "metadata": {},
     "output_type": "execute_result"
    },
    {
     "data": {
      "text/plain": [
       "[<matplotlib.lines.Line2D at 0x1bb8f138f60>]"
      ]
     },
     "execution_count": 68,
     "metadata": {},
     "output_type": "execute_result"
    },
    {
     "data": {
      "text/plain": [
       "Text(0.5, 1.0, ' Precision-Recall curve ')"
      ]
     },
     "execution_count": 68,
     "metadata": {},
     "output_type": "execute_result"
    },
    {
     "data": {
      "text/plain": [
       "Text(0.5, 0, 'recall')"
      ]
     },
     "execution_count": 68,
     "metadata": {},
     "output_type": "execute_result"
    },
    {
     "data": {
      "text/plain": [
       "Text(0, 0.5, 'precision')"
      ]
     },
     "execution_count": 68,
     "metadata": {},
     "output_type": "execute_result"
    },
    {
     "data": {
      "text/plain": [
       "<matplotlib.legend.Legend at 0x1bb8cedf2e8>"
      ]
     },
     "execution_count": 68,
     "metadata": {},
     "output_type": "execute_result"
    },
    {
     "data": {
      "image/png": "[encoded data removed]",
      "text/plain": [
       "<Figure size 432x288 with 1 Axes>"
      ]
     },
     "metadata": {
      "needs_background": "light"
     },
     "output_type": "display_data"
    }
   ],
   "source": [
    "# 画出 P-R 曲线\n",
    "\n",
    "from itertools import cycle\n",
    "\n",
    "# colors = cycle(['navy', 'turquoise', 'darkorange', 'cornflowerblue', 'teal'])\n",
    "\n",
    "from sklearn.metrics import precision_recall_curve\n",
    "import matplotlib.pyplot as plt\n",
    "\n",
    "# from sklearn.metrics import PrecisionRecallDisplay\n",
    "\n",
    "\n",
    "y_pred= clf.predict(testDataArr)\n",
    "\n",
    "y_scores= clf.predict_proba(testDataArr)\n",
    "\n",
    "y_true=testLabelArr\n",
    "\n",
    "\n",
    "\n",
    "precision, recall, thresholds = precision_recall_curve(y_true, y_scores)\n",
    "\n",
    "\n",
    "y_scores2= clf2.predict_proba(testDataArr)[:,1]  # 第 1 列 , 表示为 正例的概率\n",
    "\n",
    "precision2, recall2, thresholds2 = precision_recall_curve(y_true, y_scores2)\n",
    "\n",
    "\n",
    "\n",
    "# disp = PrecisionRecallDisplay(precision=precision, recall=recall)\n",
    "# disp.plot() \n",
    "\n",
    "\n",
    "plt.plot(recall, precision, label=\"GDBT_2Classifier(xrh)\",color='navy' ) # \n",
    "\n",
    "plt.plot(recall2, precision2, label=\"GradientBoostingClassifier(sklearn)\",color='turquoise' )\n",
    "\n",
    "\n",
    "plt.title(' Precision-Recall curve ')\n",
    "\n",
    "# plt.ylim([0.0, 1.05]) # Y 轴的取值范围\n",
    "# plt.xlim([0.0, 1.0]) # X 轴的取值范围\n",
    "\n",
    "\n",
    "\n",
    "plt.xlabel(\"recall\")\n",
    "plt.ylabel(\"precision\")\n",
    "\n",
    "plt.legend( loc=(0, -.38), prop=dict(size=14) ) # 图例\n",
    "\n",
    "plt.show()\n",
    "\n"
   ]
  },
  {
   "cell_type": "markdown",
   "metadata": {},
   "source": [
    "**P-R 关系图的 左右端点的讨论**"
   ]
  },
  {
   "cell_type": "code",
   "execution_count": 67,
   "metadata": {},
   "outputs": [
    {
     "data": {
      "text/plain": [
       "0.085"
      ]
     },
     "execution_count": 67,
     "metadata": {},
     "output_type": "execute_result"
    }
   ],
   "source": [
    "ratio_pos= len(y_true[y_true==1]) / len(y_true)\n",
    "ratio_pos"
   ]
  },
  {
   "cell_type": "code",
   "execution_count": 63,
   "metadata": {},
   "outputs": [
    {
     "data": {
      "text/plain": [
       "(0.0, 1.0, 0.9645801956834433)"
      ]
     },
     "execution_count": 63,
     "metadata": {},
     "output_type": "execute_result"
    }
   ],
   "source": [
    "# 左端点\n",
    "recall2[-1], precision2[-1],thresholds2[-1]"
   ]
  },
  {
   "cell_type": "code",
   "execution_count": 64,
   "metadata": {},
   "outputs": [
    {
     "data": {
      "text/plain": [
       "(1.0, 0.4885057471264368, 0.03735027619099542)"
      ]
     },
     "execution_count": 64,
     "metadata": {},
     "output_type": "execute_result"
    }
   ],
   "source": [
    "# 右端点\n",
    "recall2[0], precision2[0],thresholds2[0]"
   ]
  },
  {
   "cell_type": "markdown",
   "metadata": {},
   "source": [
    "##### ROC 曲线"
   ]
  },
  {
   "cell_type": "code",
   "execution_count": 76,
   "metadata": {},
   "outputs": [
    {
     "data": {
      "text/plain": [
       "[<matplotlib.lines.Line2D at 0x1bb8fa48ba8>]"
      ]
     },
     "execution_count": 76,
     "metadata": {},
     "output_type": "execute_result"
    },
    {
     "data": {
      "text/plain": [
       "[<matplotlib.lines.Line2D at 0x1bb8fb10c18>]"
      ]
     },
     "execution_count": 76,
     "metadata": {},
     "output_type": "execute_result"
    },
    {
     "data": {
      "text/plain": [
       "[<matplotlib.lines.Line2D at 0x1bb8fa48cf8>]"
      ]
     },
     "execution_count": 76,
     "metadata": {},
     "output_type": "execute_result"
    },
    {
     "data": {
      "text/plain": [
       "Text(0.5, 0, 'False Positive Rate')"
      ]
     },
     "execution_count": 76,
     "metadata": {},
     "output_type": "execute_result"
    },
    {
     "data": {
      "text/plain": [
       "Text(0, 0.5, 'True Positive Rate')"
      ]
     },
     "execution_count": 76,
     "metadata": {},
     "output_type": "execute_result"
    },
    {
     "data": {
      "text/plain": [
       "<matplotlib.legend.Legend at 0x1bb8fb105c0>"
      ]
     },
     "execution_count": 76,
     "metadata": {},
     "output_type": "execute_result"
    },
    {
     "data": {
      "image/png": "[encoded data removed]",
      "text/plain": [
       "<Figure size 432x288 with 1 Axes>"
      ]
     },
     "metadata": {
      "needs_background": "light"
     },
     "output_type": "display_data"
    }
   ],
   "source": [
    "from sklearn.metrics import roc_curve\n",
    "\n",
    "\n",
    "fpr, tpr, _ = roc_curve(y_true, y_scores)\n",
    "\n",
    "fpr2, tpr2, _ = roc_curve(y_true, y_scores2)\n",
    "\n",
    "plt.plot( [0, 1], [0, 1], color='navy', linestyle='--' )\n",
    "\n",
    "\n",
    "plt.plot( fpr, tpr, label=\"GDBT_2Classifier(xrh)\",color='darkorange' ) # \n",
    "\n",
    "plt.plot( fpr2, tpr2, label=\"GradientBoostingClassifier(sklearn)\",color='turquoise' )\n",
    "\n",
    "# plt.xlim( [0.0, 1.0] )\n",
    "# plt.ylim( [0.0, 1.05] )\n",
    "\n",
    "plt.xlabel('False Positive Rate')\n",
    "plt.ylabel('True Positive Rate')\n",
    "\n",
    "\n",
    "plt.legend( loc=(0, -.38), prop=dict(size=14) ) # 图例\n",
    "\n",
    "plt.show()"
   ]
  },
  {
   "cell_type": "markdown",
   "metadata": {},
   "source": [
    "**ROC 曲线的 左右端点的讨论**"
   ]
  },
  {
   "cell_type": "code",
   "execution_count": 81,
   "metadata": {},
   "outputs": [
    {
     "data": {
      "text/plain": [
       "(1.0, 1.0, 0.9869376470477005)"
      ]
     },
     "execution_count": 81,
     "metadata": {},
     "output_type": "execute_result"
    }
   ],
   "source": [
    "# 右端点\n",
    "fpr[-1], tpr[-1],thresholds[-1]"
   ]
  },
  {
   "cell_type": "code",
   "execution_count": 80,
   "metadata": {},
   "outputs": [
    {
     "data": {
      "text/plain": [
       "(0.0, 0.0, 0.03735027619099542)"
      ]
     },
     "execution_count": 80,
     "metadata": {},
     "output_type": "execute_result"
    }
   ],
   "source": [
    "# 左端点\n",
    "fpr[0], fpr[0],thresholds2[0]"
   ]
  },
  {
   "cell_type": "markdown",
   "metadata": {},
   "source": [
    "### GBDT 多分类"
   ]
  },
  {
   "cell_type": "code",
   "execution_count": 143,
   "metadata": {
    "scrolled": true
   },
   "outputs": [
    {
     "name": "stdout",
     "output_type": "stream",
     "text": [
      "according to the training dataset : K=3 classification task\n"
     ]
    }
   ],
   "source": [
    "\n",
    "\n",
    "X_train=[  [6],\n",
    "           [12],\n",
    "           [14],\n",
    "           [18],\n",
    "           [20],\n",
    "           [65],\n",
    "           [31],\n",
    "           [40],\n",
    "           [1],\n",
    "           [2],\n",
    "           [100],\n",
    "           [101],\n",
    "           [65],\n",
    "           [54],\n",
    "           ]\n",
    "\n",
    "y_train= np.array([[0], [0], [0], [0], [0], [1], [1], [1], [1], [1], [2], [2], [2], [2]]).ravel()\n",
    "\n",
    "X=X_train\n",
    "\n",
    "y=y_train\n",
    "\n",
    "max_iter=5\n",
    "\n",
    "N = np.shape(X)[0]  # 样本的个数\n",
    "\n",
    "\n",
    "\n",
    "K = len({ele for ele in y})  # y 中有多少种不同的标签,  K分类\n",
    "\n",
    "print('according to the training dataset : K={} classification task'.format(K))\n",
    "\n",
    "F = np.zeros( (K , N),dtype=float) # shape: (K,N)\n",
    "\n",
    "for k in range(K): # 遍历 所有的 类别\n",
    "\n",
    "    F[k,:] = len(y[y == k]) / len(y)\n",
    "\n",
    "    \n"
   ]
  },
  {
   "cell_type": "code",
   "execution_count": 142,
   "metadata": {},
   "outputs": [],
   "source": [
    "def softmax(X):\n",
    "    \"\"\"\n",
    "    softmax处理，将结果转化为概率\n",
    "\n",
    "    :param X:\n",
    "    :return:\n",
    "    \"\"\"\n",
    "    return np.e ** X / ((np.e ** X).sum(axis=0))  # softmax处理，将结果转化为概率\n"
   ]
  },
  {
   "cell_type": "code",
   "execution_count": 147,
   "metadata": {},
   "outputs": [
    {
     "data": {
      "text/plain": [
       "array([ 0.65882682,  0.65882682,  0.65882682,  0.65882682,  0.65882682,\n",
       "       -0.34117318, -0.34117318, -0.34117318, -0.34117318, -0.34117318,\n",
       "       -0.34117318, -0.34117318, -0.34117318, -0.34117318])"
      ]
     },
     "execution_count": 147,
     "metadata": {},
     "output_type": "execute_result"
    }
   ],
   "source": [
    "m=1\n",
    "\n",
    "p = softmax( F )\n",
    "\n",
    "\n",
    "\n",
    "y_one_hot = ( y == np.array(range(K)).reshape(-1, 1) ).astype(\n",
    "    np.int8)  # 将 预测向量 扩展为 one-hot , shape: (K,N)\n",
    "\n",
    "p_k=p[0]\n",
    "y_one_hot_k = y_one_hot[0]\n",
    "\n",
    "r=y_one_hot_k - p_k\n",
    "\n",
    "r"
   ]
  },
  {
   "cell_type": "code",
   "execution_count": 151,
   "metadata": {},
   "outputs": [
    {
     "data": {
      "text/plain": [
       "array([[1., 1., 1.],\n",
       "       [2., 2., 2.],\n",
       "       [3., 3., 3.]])"
      ]
     },
     "execution_count": 151,
     "metadata": {},
     "output_type": "execute_result"
    }
   ],
   "source": [
    "\n",
    "\n",
    "F_0 = np.array( [1,2,3],dtype=float)  # shape : (K,)\n",
    "    \n",
    "np.transpose([F_0] * 3)"
   ]
  },
  {
   "cell_type": "code",
   "execution_count": 152,
   "metadata": {},
   "outputs": [
    {
     "data": {
      "text/plain": [
       "inf"
      ]
     },
     "execution_count": 152,
     "metadata": {},
     "output_type": "execute_result"
    }
   ],
   "source": [
    "np.exp(3085)"
   ]
  },
  {
   "cell_type": "code",
   "execution_count": null,
   "metadata": {},
   "outputs": [],
   "source": [
    "\n",
    "\n",
    "\n",
    "\n"
   ]
  }
 ],
 "metadata": {
  "kernelspec": {
   "display_name": "Python 3",
   "language": "python",
   "name": "python3"
  },
  "language_info": {
   "codemirror_mode": {
    "name": "ipython",
    "version": 3
   },
   "file_extension": ".py",
   "mimetype": "text/x-python",
   "name": "python",
   "nbconvert_exporter": "python",
   "pygments_lexer": "ipython3",
   "version": "3.7.3"
  },
  "toc": {
   "base_numbering": 1,
   "nav_menu": {},
   "number_sections": true,
   "sideBar": true,
   "skip_h1_title": false,
   "title_cell": "Table of Contents",
   "title_sidebar": "Contents",
   "toc_cell": false,
   "toc_position": {
    "height": "calc(100% - 180px)",
    "left": "10px",
    "top": "150px",
    "width": "165px"
   },
   "toc_section_display": true,
   "toc_window_display": true
  }
 },
 "nbformat": 4,
 "nbformat_minor": 1
}
