{
 "cells": [
  {
   "cell_type": "code",
   "execution_count": 2,
   "metadata": {},
   "outputs": [],
   "source": [
    "import numpy as np \n"
   ]
  },
  {
   "cell_type": "code",
   "execution_count": 5,
   "metadata": {},
   "outputs": [
    {
     "data": {
      "text/plain": [
       "array([-1.01286846,  8.0107237 ])"
      ]
     },
     "execution_count": 5,
     "metadata": {},
     "output_type": "execute_result"
    }
   ],
   "source": [
    "a = np.random.randn(2,4,4)\n",
    "\n",
    "np.sum(a, axis=(1,2))"
   ]
  },
  {
   "cell_type": "code",
   "execution_count": 6,
   "metadata": {},
   "outputs": [
    {
     "data": {
      "text/plain": [
       "array([[[-2.23980577e-02,  5.03002752e-01, -5.13431950e-01,\n",
       "         -1.08355254e+00],\n",
       "        [-5.30829023e-01,  9.74644640e-04,  5.40129726e-01,\n",
       "          4.21941723e-01],\n",
       "        [ 7.22854227e-01,  1.09381727e+00,  1.47132588e+00,\n",
       "          6.84438756e-01],\n",
       "        [-1.08397915e-01,  1.51313882e+00, -4.67249003e-01,\n",
       "         -4.27705131e-01]],\n",
       "\n",
       "       [[ 3.09461554e-02, -1.03586711e+00,  6.77323427e-01,\n",
       "          3.21965142e-01],\n",
       "        [-1.52484504e-01,  7.44780021e-04,  1.65823841e-01,\n",
       "          2.42976152e+00],\n",
       "        [-5.09596317e-01, -1.04599727e+00,  6.24675742e-01,\n",
       "          4.42355535e-01],\n",
       "        [-1.88635765e+00,  1.02500553e+00,  5.26564305e-01,\n",
       "          2.41091014e-01]]])"
      ]
     },
     "execution_count": 6,
     "metadata": {},
     "output_type": "execute_result"
    }
   ],
   "source": [
    "b = np.random.randn(4,4)\n",
    "\n",
    "a*b"
   ]
  },
  {
   "cell_type": "code",
   "execution_count": 15,
   "metadata": {},
   "outputs": [
    {
     "data": {
      "text/plain": [
       "array([[1, 1],\n",
       "       [1, 1],\n",
       "       [2, 2],\n",
       "       [2, 2],\n",
       "       [3, 3],\n",
       "       [3, 3],\n",
       "       [4, 4],\n",
       "       [4, 4],\n",
       "       [5, 5],\n",
       "       [5, 5],\n",
       "       [6, 6],\n",
       "       [6, 6]])"
      ]
     },
     "execution_count": 15,
     "metadata": {},
     "output_type": "execute_result"
    },
    {
     "data": {
      "text/plain": [
       "array([[1, 4],\n",
       "       [1, 4],\n",
       "       [1, 4],\n",
       "       [1, 4],\n",
       "       [2, 5],\n",
       "       [2, 5],\n",
       "       [2, 5],\n",
       "       [2, 5],\n",
       "       [3, 6],\n",
       "       [3, 6],\n",
       "       [3, 6],\n",
       "       [3, 6]])"
      ]
     },
     "execution_count": 15,
     "metadata": {},
     "output_type": "execute_result"
    },
    {
     "data": {
      "text/plain": [
       "(12, 2)"
      ]
     },
     "execution_count": 15,
     "metadata": {},
     "output_type": "execute_result"
    },
    {
     "data": {
      "text/plain": [
       "array([[[[1, 1],\n",
       "         [1, 1]],\n",
       "\n",
       "        [[2, 2],\n",
       "         [2, 2]],\n",
       "\n",
       "        [[3, 3],\n",
       "         [3, 3]]],\n",
       "\n",
       "\n",
       "       [[[4, 4],\n",
       "         [4, 4]],\n",
       "\n",
       "        [[5, 5],\n",
       "         [5, 5]],\n",
       "\n",
       "        [[6, 6],\n",
       "         [6, 6]]]])"
      ]
     },
     "execution_count": 15,
     "metadata": {},
     "output_type": "execute_result"
    }
   ],
   "source": [
    "w = np.array(\n",
    "\n",
    "   [\n",
    "    [\n",
    "        [\n",
    "         [1,1],\n",
    "         [1,1]\n",
    "        ],\n",
    "\n",
    "        [\n",
    "         [2,2],\n",
    "         [2,2]\n",
    "        ],\n",
    "\n",
    "        [\n",
    "         [3,3],\n",
    "         [3,3]\n",
    "        ]\n",
    "    ],\n",
    "    \n",
    "    [\n",
    "        [\n",
    "         [4,4],\n",
    "         [4,4]\n",
    "        ],\n",
    "\n",
    "        [\n",
    "         [5,5],\n",
    "         [5,5]\n",
    "        ],\n",
    "\n",
    "        [\n",
    "         [6,6],\n",
    "         [6,6]\n",
    "        ]\n",
    "    ]\n",
    " ]\n",
    "\n",
    ")\n",
    "\n",
    "\n",
    "n_c, n_c_prev, f, f = np.shape(w)\n",
    "\n",
    "w_ba = np.reshape(w, (n_c_prev*f*f, n_c))\n",
    "\n",
    "w_ba\n",
    "\n",
    "w_ba2 = np.reshape(w, (n_c,n_c_prev*f*f)).T\n",
    "\n",
    "w_ba2\n",
    "\n",
    "np.shape(w_ba2)\n",
    "\n"
   ]
  },
  {
   "cell_type": "code",
   "execution_count": 22,
   "metadata": {},
   "outputs": [
    {
     "data": {
      "text/plain": [
       "array([[[1, 1],\n",
       "        [1, 1]],\n",
       "\n",
       "       [[2, 2],\n",
       "        [2, 2]],\n",
       "\n",
       "       [[3, 3],\n",
       "        [3, 3]],\n",
       "\n",
       "       [[4, 4],\n",
       "        [4, 4]],\n",
       "\n",
       "       [[5, 5],\n",
       "        [5, 5]],\n",
       "\n",
       "       [[6, 6],\n",
       "        [6, 6]]])"
      ]
     },
     "execution_count": 22,
     "metadata": {},
     "output_type": "execute_result"
    },
    {
     "data": {
      "text/plain": [
       "array([[[[1, 1],\n",
       "         [1, 1]],\n",
       "\n",
       "        [[2, 2],\n",
       "         [2, 2]],\n",
       "\n",
       "        [[3, 3],\n",
       "         [3, 3]]],\n",
       "\n",
       "\n",
       "       [[[4, 4],\n",
       "         [4, 4]],\n",
       "\n",
       "        [[5, 5],\n",
       "         [5, 5]],\n",
       "\n",
       "        [[6, 6],\n",
       "         [6, 6]]]])"
      ]
     },
     "execution_count": 22,
     "metadata": {},
     "output_type": "execute_result"
    }
   ],
   "source": [
    "w_tran = w.reshape(2*3,2,2)\n",
    "\n",
    "w_tran\n",
    "\n",
    "w_tran_tran = w_tran.reshape(2,3,2,2)\n",
    "\n",
    "w_tran_tran "
   ]
  },
  {
   "cell_type": "code",
   "execution_count": 27,
   "metadata": {},
   "outputs": [
    {
     "data": {
      "text/plain": [
       "array([[[1, 1],\n",
       "        [1, 1]],\n",
       "\n",
       "       [[2, 2],\n",
       "        [2, 2]],\n",
       "\n",
       "       [[3, 3],\n",
       "        [3, 3]],\n",
       "\n",
       "       [[4, 4],\n",
       "        [4, 4]],\n",
       "\n",
       "       [[5, 5],\n",
       "        [5, 5]],\n",
       "\n",
       "       [[6, 6],\n",
       "        [6, 6]]])"
      ]
     },
     "execution_count": 27,
     "metadata": {},
     "output_type": "execute_result"
    },
    {
     "data": {
      "text/plain": [
       "(6, 2, 6, 2)"
      ]
     },
     "execution_count": 27,
     "metadata": {},
     "output_type": "execute_result"
    }
   ],
   "source": [
    "w_tran = w.reshape((2*3,2,2))\n",
    "\n",
    "w_tran\n",
    "\n",
    "x = np.ones((6,2,2))\n",
    "\n",
    "res = np.dot(w_tran,x)\n",
    "\n",
    "# res\n",
    "\n",
    "np.shape(res)"
   ]
  },
  {
   "cell_type": "code",
   "execution_count": 31,
   "metadata": {},
   "outputs": [
    {
     "data": {
      "text/plain": [
       "array([[0., 0., 0., 0., 0., 0.],\n",
       "       [0., 1., 1., 1., 1., 0.],\n",
       "       [0., 1., 1., 1., 1., 0.],\n",
       "       [0., 1., 1., 1., 1., 0.],\n",
       "       [0., 1., 1., 1., 1., 0.],\n",
       "       [0., 0., 0., 0., 0., 0.]])"
      ]
     },
     "execution_count": 31,
     "metadata": {},
     "output_type": "execute_result"
    },
    {
     "data": {
      "text/plain": [
       "array([[1., 1., 1., 1.],\n",
       "       [1., 1., 1., 1.],\n",
       "       [1., 1., 1., 1.],\n",
       "       [1., 1., 1., 1.]])"
      ]
     },
     "execution_count": 31,
     "metadata": {},
     "output_type": "execute_result"
    }
   ],
   "source": [
    "\n",
    "w = np.ones((4,4))\n",
    "\n",
    "p=1\n",
    "\n",
    "w_pad = np.pad(w, ((p, p), (p, p)), 'constant', constant_values=0)\n",
    "\n",
    "w_pad\n",
    "\n",
    "w_pad[p:-p, p:-p]\n"
   ]
  },
  {
   "cell_type": "code",
   "execution_count": 75,
   "metadata": {},
   "outputs": [
    {
     "data": {
      "text/plain": [
       "array([2, 1, 2], dtype=int64)"
      ]
     },
     "execution_count": 75,
     "metadata": {},
     "output_type": "execute_result"
    },
    {
     "data": {
      "text/plain": [
       "array([2, 3, 4])"
      ]
     },
     "execution_count": 75,
     "metadata": {},
     "output_type": "execute_result"
    },
    {
     "data": {
      "text/plain": [
       "array([[0, 2],\n",
       "       [1, 1],\n",
       "       [2, 2]], dtype=int64)"
      ]
     },
     "execution_count": 75,
     "metadata": {},
     "output_type": "execute_result"
    },
    {
     "data": {
      "text/plain": [
       "array([[0., 0., 1.],\n",
       "       [0., 2., 0.],\n",
       "       [0., 0., 3.]])"
      ]
     },
     "execution_count": 75,
     "metadata": {},
     "output_type": "execute_result"
    },
    {
     "data": {
      "text/plain": [
       "array([4, 3, 6])"
      ]
     },
     "execution_count": 75,
     "metadata": {},
     "output_type": "execute_result"
    }
   ],
   "source": [
    "\n",
    "x_ba = np.array([\n",
    "         [1,1,2],\n",
    "         [1,3,1],\n",
    "         [1,3,4]\n",
    "        ])\n",
    "\n",
    "max_idx = np.argmax(x_ba,axis=1)\n",
    "\n",
    "max_idx # array([2, 1, 2], dtype=int64)\n",
    "\n",
    "x_ba[np.arange(3), max_idx] # array([2, 3, 4])\n",
    "\n",
    "\n",
    "grad_x_ba = np.zeros((3,3))\n",
    "\n",
    "grad_y_ba = np.array([1,2,3])\n",
    "\n",
    "\n",
    "idx = np.array(list(zip(np.arange(3), max_idx)))\n",
    "idx\n",
    "\n",
    "\n",
    "grad_x_ba[np.arange(3), max_idx] = grad_y_ba\n",
    "\n",
    "grad_x_ba\n",
    "\n",
    "# for i in range( np.shape(idx)[0] ):\n",
    "    \n",
    "#     grad_x_ba[idx[i][0],idx[i][1]] = grad_y_ba[i]\n",
    "\n",
    "# grad_x_ba\n",
    "\n",
    "\n"
   ]
  },
  {
   "cell_type": "code",
   "execution_count": 76,
   "metadata": {},
   "outputs": [
    {
     "data": {
      "text/plain": [
       "array([1, 1, 2, 1, 3, 1, 1, 3, 4])"
      ]
     },
     "execution_count": 76,
     "metadata": {},
     "output_type": "execute_result"
    }
   ],
   "source": [
    "x_ba.reshape(9)"
   ]
  },
  {
   "cell_type": "code",
   "execution_count": 83,
   "metadata": {},
   "outputs": [
    {
     "data": {
      "text/plain": [
       "array([[ 0,  1,  2,  3],\n",
       "       [ 4,  5,  6,  7],\n",
       "       [ 8,  9, 10, 11],\n",
       "       [12, 13, 14, 15]])"
      ]
     },
     "execution_count": 83,
     "metadata": {},
     "output_type": "execute_result"
    },
    {
     "data": {
      "text/plain": [
       "array([ 1,  6, 11, 12])"
      ]
     },
     "execution_count": 83,
     "metadata": {},
     "output_type": "execute_result"
    }
   ],
   "source": [
    "x=np.arange(16).reshape((4,4))\n",
    "\n",
    "x\n",
    "\n",
    "x[\n",
    "    [0,1,2,3], # 行索引\n",
    "    [1,2,3,0]  # 列索引\n",
    "]"
   ]
  },
  {
   "cell_type": "code",
   "execution_count": 91,
   "metadata": {},
   "outputs": [
    {
     "data": {
      "text/plain": [
       "(2, 5, 10)"
      ]
     },
     "execution_count": 91,
     "metadata": {},
     "output_type": "execute_result"
    }
   ],
   "source": [
    "a=np.ones((1,10))\n",
    "\n",
    "b= np.ones((2,5))\n",
    "\n",
    "res= np.dot(np.expand_dims(b, axis=2) ,a)\n",
    "\n",
    "np.shape(res)"
   ]
  },
  {
   "cell_type": "code",
   "execution_count": 7,
   "metadata": {},
   "outputs": [
    {
     "data": {
      "text/plain": [
       "array([[-0.5207762 , -0.33773344, -0.46694969],\n",
       "       [ 0.97370254,  1.61687661, -0.26832344]])"
      ]
     },
     "execution_count": 7,
     "metadata": {},
     "output_type": "execute_result"
    }
   ],
   "source": [
    "\n",
    "np.random.randn(2,3)"
   ]
  },
  {
   "cell_type": "code",
   "execution_count": 10,
   "metadata": {},
   "outputs": [
    {
     "name": "stdout",
     "output_type": "stream",
     "text": [
      "3\n"
     ]
    }
   ],
   "source": [
    "\n",
    "def process( a, **kwargs ):\n",
    "    \n",
    "    print(len(kwargs))\n",
    "\n",
    "process(10, b=1,c=2,d=3)    \n"
   ]
  },
  {
   "cell_type": "code",
   "execution_count": 14,
   "metadata": {},
   "outputs": [
    {
     "data": {
      "text/plain": [
       "array([[ 0,  1,  2,  3],\n",
       "       [ 4,  5,  6,  7],\n",
       "       [ 8,  9, 10, 11],\n",
       "       [12, 13, 14, 15]])"
      ]
     },
     "execution_count": 14,
     "metadata": {},
     "output_type": "execute_result"
    },
    {
     "data": {
      "text/plain": [
       "array([[ 0,  1,  2,  3],\n",
       "       [ 4,  5,  6,  7],\n",
       "       [ 8,  9, 10, 11],\n",
       "       [12, 13, 14, 15]])"
      ]
     },
     "execution_count": 14,
     "metadata": {},
     "output_type": "execute_result"
    }
   ],
   "source": [
    "a = np.arange(16).reshape((4,4))\n",
    "\n",
    "a\n",
    "\n",
    "b = a.reshape((2,2,4))\n",
    "\n",
    "b.reshape((4,4))"
   ]
  },
  {
   "cell_type": "code",
   "execution_count": 28,
   "metadata": {},
   "outputs": [],
   "source": [
    "import numpy as np \n",
    "\n",
    "np.random.seed(231)  # 控制随机数, 控制一次后效果消失\n",
    "\n",
    "mask = np.random.randint(10, size=3)\n",
    "\n",
    "# mask"
   ]
  },
  {
   "cell_type": "code",
   "execution_count": 35,
   "metadata": {},
   "outputs": [
    {
     "data": {
      "text/plain": [
       "array([6, 3, 0])"
      ]
     },
     "execution_count": 35,
     "metadata": {},
     "output_type": "execute_result"
    }
   ],
   "source": [
    "mask2 = np.random.randint(10, size=3)\n",
    "\n",
    "mask2"
   ]
  },
  {
   "cell_type": "code",
   "execution_count": 37,
   "metadata": {},
   "outputs": [
    {
     "data": {
      "text/plain": [
       "0"
      ]
     },
     "execution_count": 37,
     "metadata": {},
     "output_type": "execute_result"
    }
   ],
   "source": [
    "0%6"
   ]
  }
 ],
 "metadata": {
  "kernelspec": {
   "display_name": "Python 3",
   "language": "python",
   "name": "python3"
  },
  "language_info": {
   "codemirror_mode": {
    "name": "ipython",
    "version": 3
   },
   "file_extension": ".py",
   "mimetype": "text/x-python",
   "name": "python",
   "nbconvert_exporter": "python",
   "pygments_lexer": "ipython3",
   "version": "3.7.10"
  },
  "toc": {
   "base_numbering": 1,
   "nav_menu": {},
   "number_sections": true,
   "sideBar": true,
   "skip_h1_title": false,
   "title_cell": "Table of Contents",
   "title_sidebar": "Contents",
   "toc_cell": false,
   "toc_position": {},
   "toc_section_display": true,
   "toc_window_display": false
  }
 },
 "nbformat": 4,
 "nbformat_minor": 2
}
